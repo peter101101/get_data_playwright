{
 "cells": [
  {
   "cell_type": "code",
   "execution_count": 10,
   "id": "10f5317c",
   "metadata": {
    "ExecuteTime": {
     "end_time": "2024-03-20T23:43:07.406592300Z",
     "start_time": "2024-03-20T23:43:06.044314400Z"
    }
   },
   "outputs": [],
   "source": [
    "#修改日志：2023/10/03晚上\n",
    "#修正的冷门间隔并增加了图的显示"
   ]
  },
  {
   "cell_type": "code",
   "execution_count": 11,
   "id": "e5ef8f7d",
   "metadata": {
    "ExecuteTime": {
     "end_time": "2024-03-20T23:43:07.471478600Z",
     "start_time": "2024-03-20T23:43:07.406592300Z"
    }
   },
   "outputs": [],
   "source": [
    "import pandas as pd\n",
    "import numpy as np\n",
    "import matplotlib.pyplot as plt\n",
    "import seaborn as sns\n",
    "sns.set(style=\"whitegrid\")\n",
    "# 设置中文字体为\"Microsoft YaHei\"\n",
    "plt.rcParams['font.sans-serif'] = ['Microsoft YaHei']\n",
    "\n",
    "# 此后的绘图中应该能够正常显示中文\n",
    "# plt.text(0.5, 0.5, '中文文本')\n",
    "# https://blog.csdn.net/weixin_41429931/article/details/113623640"
   ]
  },
  {
   "cell_type": "markdown",
   "id": "d970bd96",
   "metadata": {},
   "source": [
    "# 1  设置jupyter notebook显示完整的行和列"
   ]
  },
  {
   "cell_type": "code",
   "execution_count": 12,
   "id": "a48e58bc",
   "metadata": {
    "ExecuteTime": {
     "end_time": "2024-03-20T23:43:07.554018500Z",
     "start_time": "2024-03-20T23:43:07.456565200Z"
    }
   },
   "outputs": [],
   "source": [
    "pd.set_option('display.max_columns', None)\n",
    "# pd.set_option('display.max_rows', None)\n",
    "pd.options.display.float_format = '{:.2f}'.format"
   ]
  },
  {
   "cell_type": "code",
   "execution_count": 13,
   "id": "7f090fcd",
   "metadata": {
    "ExecuteTime": {
     "end_time": "2024-03-20T23:43:07.592460400Z",
     "start_time": "2024-03-20T23:43:07.546760500Z"
    }
   },
   "outputs": [],
   "source": [
    "#判断df有没有NAN\n",
    "def judge_nan(df):\n",
    "    '''\n",
    "    输入:df\n",
    "    输出:带有NaN的空行位置\n",
    "    '''\n",
    "    nan_positions = df.isna()  # 或 df.isnull()\n",
    "\n",
    "    # 显示具有 NaN 值的行数据\n",
    "    return df[nan_positions.any(axis=1)]"
   ]
  },
  {
   "cell_type": "markdown",
   "id": "1204bd6b",
   "metadata": {},
   "source": [
    "# 处理必发数据"
   ]
  },
  {
   "cell_type": "code",
   "execution_count": 14,
   "id": "7820affe",
   "metadata": {
    "ExecuteTime": {
     "end_time": "2024-03-20T23:43:07.687775500Z",
     "start_time": "2024-03-20T23:43:07.593458Z"
    }
   },
   "outputs": [],
   "source": [
    "# try:\n",
    "#     file_path = \"input_data/zcbf_home_20231022.xlsx\"\n",
    "#     bf = pd.read_excel(file_path, skiprows=1)\n",
    "# except FileNotFoundError:\n",
    "#     print(f\"文件 '{file_path}' 不存在。\")\n",
    "# except Exception as e:\n",
    "#     print(f\"发生错误：{e}\")"
   ]
  },
  {
   "cell_type": "code",
   "execution_count": 15,
   "id": "46cf0720",
   "metadata": {
    "ExecuteTime": {
     "end_time": "2024-03-20T23:43:07.721731800Z",
     "start_time": "2024-03-20T23:43:07.673107900Z"
    }
   },
   "outputs": [],
   "source": [
    "# import pandas as pd\n",
    "# file_path = \"input_data/zcbf_home_20231022.xlsx\"\n",
    "# # ['必发胜','必发平','必发负','胜成交价','平成交价','负成交价','胜成交量','平成交量','负成交量']\n",
    "# xls =pd.ExcelFile(file_path)   #创建一个ExcelFile对象\n",
    "# # bf = pd.DataFrame(\n",
    "# #     [['必发胜', '必发平', '必发负', '胜成交价', '平成交价', '负成交价', '胜成交量', '平成交量', '负成交量']])\n",
    "# bf = pd.DataFrame()\n",
    "# for name in xls.sheet_names:\n",
    "#     ## xls.sheet_names是一个包含所有sheet名称的列表\n",
    "#     data = pd.ExcelFile.parse(xls,\n",
    "#                               sheet_name=name,\n",
    "#                               skiprows=1,\n",
    "#                               usecols=['必发', '成交价', '成交量'])  #读取单个sheet的数据\n",
    "    \n",
    "#     df_bf= pd.DataFrame(data.values.reshape(-1, 9),columns=['必发胜', '胜成交价','胜成交量', '必发平','平成交价',  '平成交量', '必发负',  '负成交价', '负成交量'])#每3行x3列转成一行\n",
    "#     df_bf['sheet_name']=name\n",
    "# #     df_bf['sheet_name']=name\n",
    "#     bf = pd.concat([bf, df_bf],axis=0)\n",
    "#     bf_f=bf[['必发胜', '必发平', '必发负', '胜成交价', '平成交价', '负成交价', '胜成交量', '平成交量', '负成交量']]\n",
    "# bf_f.to_excel('output_data/python_bf.xlsx',sheet_name='Sheet1',\n",
    "#                    index=False)  # 设置 index=False 来避免导出行索引)\n",
    "# columns=['必发胜', '必发平', '必发负', '胜成交价', '平成交价', '负成交价', '胜成交量', '平成交量', '负成交量']\n",
    "# columns=['必发胜', '胜成交价','胜成交量', '必发平','平成交价',  '平成交量', '必发负',  '负成交价', '负成交量']"
   ]
  },
  {
   "cell_type": "code",
   "execution_count": 16,
   "id": "e0edc7dc",
   "metadata": {
    "ExecuteTime": {
     "end_time": "2024-03-20T23:43:07.843923600Z",
     "start_time": "2024-03-20T23:43:07.713301900Z"
    }
   },
   "outputs": [],
   "source": [
    "# nan_positions = bf.isna()  # 或 df.isnull()\n",
    "\n",
    "# # 显示具有 NaN 值的行数据\n",
    "# rows_with_nan = bf[nan_positions.any(axis=1)]\n",
    "# (rows_with_nan)\n",
    "# bf_f.tail(44)\n",
    "# judge_nan(df)"
   ]
  },
  {
   "cell_type": "markdown",
   "id": "870c6241",
   "metadata": {},
   "source": [
    "# 处理足彩数据"
   ]
  },
  {
   "cell_type": "code",
   "execution_count": 17,
   "id": "a230c81d",
   "metadata": {
    "ExecuteTime": {
     "end_time": "2024-03-20T23:43:54.454841900Z",
     "start_time": "2024-03-20T23:43:07.833686500Z"
    }
   },
   "outputs": [
    {
     "name": "stdout",
     "output_type": "stream",
     "text": [
      "文件 'output_data/zc_python_new.xlsx' 不存在。\n"
     ]
    }
   ],
   "source": [
    "# To evaluate the sum over all the columns\n",
    "\n",
    "try:\n",
    "    file_path = \"output_data/zc_python_new.xlsx\"\n",
    "    # file_path = \"output_data/df_piv.xlsx\"\n",
    "    dff = pd.read_excel(file_path)\n",
    "    \n",
    "    # df = pd.read_excel(file_path, index_col=[0], parse_dates=[3])\n",
    "except FileNotFoundError:\n",
    "    print(f\"文件 '{file_path}' 不存在。\")\n",
    "except Exception as e:\n",
    "    print(f\"发生错误：{e}\")\n",
    "# df.head()\n",
    "# judge_nan(df)\n",
    "# df.isnull().sum()\n"
   ]
  },
  {
   "cell_type": "code",
   "execution_count": 18,
   "id": "dfc7c929",
   "metadata": {
    "ExecuteTime": {
     "end_time": "2024-03-20T23:43:54.473862Z",
     "start_time": "2024-03-20T23:43:54.455840100Z"
    }
   },
   "outputs": [
    {
     "ename": "NameError",
     "evalue": "name 'dff' is not defined",
     "output_type": "error",
     "traceback": [
      "\u001b[1;31m---------------------------------------------------------------------------\u001b[0m",
      "\u001b[1;31mNameError\u001b[0m                                 Traceback (most recent call last)",
      "Cell \u001b[1;32mIn[18], line 2\u001b[0m\n\u001b[0;32m      1\u001b[0m n_当期\u001b[38;5;241m=\u001b[39m\u001b[38;5;241m24088\u001b[39m\n\u001b[1;32m----> 2\u001b[0m df\u001b[38;5;241m=\u001b[39mdff[dff\u001b[38;5;241m.\u001b[39mqihao\u001b[38;5;241m<\u001b[39m\u001b[38;5;241m=\u001b[39mn_当期]\n\u001b[0;32m      3\u001b[0m df\u001b[38;5;241m.\u001b[39mtail(\u001b[38;5;241m6\u001b[39m)\n",
      "\u001b[1;31mNameError\u001b[0m: name 'dff' is not defined"
     ]
    }
   ],
   "source": [
    "n_当期=24088\n",
    "df=dff[dff.qihao<=n_当期]\n",
    "df.tail(6)\n",
    "# df.columns"
   ]
  },
  {
   "cell_type": "code",
   "execution_count": null,
   "id": "fa24b323",
   "metadata": {
    "ExecuteTime": {
     "end_time": "2024-03-20T23:43:54.485824900Z",
     "start_time": "2024-03-20T23:43:54.464420600Z"
    }
   },
   "outputs": [],
   "source": [
    "df.game_date"
   ]
  },
  {
   "cell_type": "code",
   "execution_count": null,
   "id": "8fb07fb8",
   "metadata": {
    "ExecuteTime": {
     "end_time": "2024-03-20T23:43:54.549417800Z",
     "start_time": "2024-03-20T23:43:54.470387700Z"
    }
   },
   "outputs": [],
   "source": [
    " \n",
    "# df['胜价值'] = df[['必发胜','胜成交价','胜成交量']].prod(axis=1)\n",
    "# df['平价值'] = df[['必发平','平成交价','平成交量']].prod(axis=1)\n",
    "# df['负价值'] = df[['必发负','负成交价','负成交量']].prod(axis=1)\n",
    "\n",
    "# # Calculate the total value\n",
    "# df['总价值'] = df[['胜价值', '平价值', '负价值']].sum(axis=1)\n",
    "\n",
    "# # Avoid division by zero by adding a small constant\n",
    "# df['总价值'] = df['总价值'].replace(0, 0.1)\n",
    "\n",
    "# # Calculate the ratios\n",
    "# df['胜价值比率'] = df['胜价值'] / df['总价值']\n",
    "# df['平价值比率'] = df['平价值'] / df['总价值']\n",
    "# df['负价值比率'] = df['负价值'] / df['总价值']\n",
    "\n",
    "# # Drop unnecessary columns\n",
    "# df = df.drop(['必发胜', '必发平', '必发负', '必胜比率', '必平比率', '必负比率', '胜成交价', '平成交价', '负成交价',\n",
    "#     '胜成交量', '平成交量', '负成交量'], axis=1)\n"
   ]
  },
  {
   "cell_type": "code",
   "execution_count": null,
   "id": "4c74f904",
   "metadata": {
    "ExecuteTime": {
     "end_time": "2024-03-20T23:43:54.571890800Z",
     "start_time": "2024-03-20T23:43:54.477912800Z"
    }
   },
   "outputs": [],
   "source": [
    "def optimize_code(df):\n",
    "    \"\"\"\n",
    "    优化代码\n",
    "\n",
    "    Args:\n",
    "        df: 原始数据\n",
    "\n",
    "    Returns:\n",
    "        优化后的数据\n",
    "    \"\"\"\n",
    "\n",
    "    # 使用df.eval()计算胜价值、平价值和负价值\n",
    "    ####2024/04/27 \n",
    "    #------------------------------------------------\n",
    "    #     df['胜价值'] = df.eval('必发胜 * 胜成交价 * 胜成交量') \n",
    "    #     改为 df['胜价值'] = df.eval('胜成交价 * 胜成交量') \n",
    "    #--------------------------------------------\n",
    "    df['胜价值'] = df.eval('胜成交价 * 胜成交量')  \n",
    "    df['平价值'] = df.eval('平成交价 * 平成交量')\n",
    "    df['负价值'] = df.eval('负成交价 * 负成交量')\n",
    "    df['胜价值'] = df['胜价值'].apply(lambda x: 0.1 if x <= 0.01 else x)\n",
    "    df['平价值'] = df['平价值'].apply(lambda x: 0.1 if x <= 0.01 else x)\n",
    "    df['负价值'] = df['负价值'].apply(lambda x: 0.1 if x <= 0.01 else x)\n",
    "\n",
    "    # 使用df.sum(axis=1,skipna=True)计算总价值\n",
    "    df['总价值'] = df[['胜价值', '平价值', '负价值']].sum(axis=1)\n",
    "\n",
    "    # 使用df.replace(to_replace=0, method='bfill')避免出现NaN值\n",
    "    df['总价值'] = df['总价值'].replace(0,0.1)\n",
    "\n",
    "    # 使用df.dropna()删除包含NaN值的行\n",
    "    df = df.dropna()\n",
    "\n",
    "    # 计算比率\n",
    "    # df.loc[:, '胜价值比率'] = df['胜价值'] / df['总价值']\n",
    "    # df.loc[:, '平价值比率'] = df['平价值'] / df['总价值']\n",
    "    # df.loc[:, '负价值比率'] = df['负价值'] / df['总价值']\n",
    "    df = df.assign(胜价值比率 = df['胜价值'] / df['总价值'])\n",
    "    df = df.assign(平价值比率 = df['平价值'] / df['总价值'])\n",
    "    df = df.assign(负价值比率 = df['负价值'] / df['总价值'])\n",
    "\n",
    "    # 删除不必要的列\n",
    "    df = df.drop(['必发胜', '必发平', '必发负', '必胜比率', '必平比率', '必负比率', '胜成交价', '平成交价', '负成交价',\n",
    "        '胜成交量', '平成交量', '负成交量'], axis=1)\n",
    "\n",
    "    return df\n"
   ]
  },
  {
   "cell_type": "code",
   "execution_count": null,
   "id": "e81450db",
   "metadata": {
    "ExecuteTime": {
     "end_time": "2024-03-20T23:43:54.699628700Z",
     "start_time": "2024-03-20T23:43:54.488239300Z"
    }
   },
   "outputs": [],
   "source": [
    "df = optimize_code(df)"
   ]
  },
  {
   "cell_type": "code",
   "execution_count": null,
   "id": "4e6f3bb8",
   "metadata": {
    "ExecuteTime": {
     "end_time": "2024-03-20T23:43:54.748798800Z",
     "start_time": "2024-03-20T23:43:54.701624800Z"
    }
   },
   "outputs": [],
   "source": [
    "# df['胜价值'] = df['胜价值'].apply(lambda x: 0.1 if x <= 0.01 else x)\n",
    "# df['平价值'] = df['平价值'].apply(lambda x: 0.1 if x <= 0.01 else x)\n",
    "# df['负价值'] = df['负价值'].apply(lambda x: 0.1 if x <= 0.01 else x)\n",
    "\n",
    "# 显示具有 NaN 值的行数据\n",
    "# judge_nan(df)\n",
    "df.tail(14)\n",
    "\n",
    "\n"
   ]
  },
  {
   "cell_type": "code",
   "execution_count": null,
   "id": "cbccf35b",
   "metadata": {
    "ExecuteTime": {
     "end_time": "2024-03-20T23:43:54.797517Z",
     "start_time": "2024-03-20T23:43:54.745767400Z"
    }
   },
   "outputs": [],
   "source": [
    "#按照某几列不连续的列进行切片\n",
    "# df_choice=df.iloc[:,np.r_[0:2,4,8,10,13,31,62-15:62]]\n",
    "df_choice = df\n",
    "df_choice.head()\n",
    "# df.game_date"
   ]
  },
  {
   "cell_type": "code",
   "execution_count": null,
   "id": "1c6bd7c4",
   "metadata": {
    "ExecuteTime": {
     "end_time": "2024-03-20T23:43:54.815070900Z",
     "start_time": "2024-03-20T23:43:54.784465100Z"
    }
   },
   "outputs": [],
   "source": [
    "(\n",
    "    #     df\n",
    "    #     .loc[:,:]\n",
    "    #     .assign(胜赔差=lambda x:x.终胜赔-x.初胜赔)\n",
    "    #     .assign(平赔差=lambda x:x.终平赔-x.初平赔)\n",
    "    #     .assign(负赔差=lambda x:x.终负赔-x.初负赔)\n",
    "\n",
    "    #     .select_dtypes(include='number',exclude='int')\n",
    "    #       .iloc[:, np.r_[:]]\n",
    "    #      .loc[:,[1:]]\n",
    "    #     .set_axis(['数量','单价','品名'],axis='columns')\n",
    "    #     .groupby('结果',group_keys=False)\n",
    "    #     .apply(lambda x:x.assign(序号=range(1,x.shape[0]+1)))\n",
    "    #     .pivot_table(index='品名',values=['数量','单价'])\n",
    "    #     .reset_index(_)\n",
    "    #     .sort_values(['序号','level_0'],ascendin=[True,False])\n",
    "    #     .assign(序号=lambda x:x.level_0+x.序号.astype(str(x)))\n",
    "    #     .assign(处理失败=lambda x: x.apply(lambda s:s.数量 if s.处理状态=='处理失败' else 0,axis='columns')) #这行是直接增加一列，可以处理数据格式\n",
    "    #     .iloc[:,[1,2,3,4,5,6]]\n",
    ")"
   ]
  },
  {
   "cell_type": "markdown",
   "id": "bb00f342",
   "metadata": {},
   "source": [
    "# 分组筛选"
   ]
  },
  {
   "cell_type": "code",
   "execution_count": null,
   "id": "ddfac4dd",
   "metadata": {
    "ExecuteTime": {
     "end_time": "2024-03-20T23:43:55.015686100Z",
     "start_time": "2024-03-20T23:43:54.792249900Z"
    }
   },
   "outputs": [],
   "source": [
    "df_gp = df_choice.groupby(['冷门', '结果', 'shaishi'])\n",
    "df_gp[['胜赔差', '平赔差', '负赔差', '胜价值比率', '平价值比率', '负价值比率', '终盘水差',\n",
    "       '初盘水差']].agg(['min', 'max', 'mean', len])"
   ]
  },
  {
   "cell_type": "code",
   "execution_count": null,
   "id": "bd72d042",
   "metadata": {
    "ExecuteTime": {
     "end_time": "2024-03-20T23:43:55.050337Z",
     "start_time": "2024-03-20T23:43:54.951799Z"
    }
   },
   "outputs": [],
   "source": [
    "df.groupby(['冷门', '结果'])['终胜赔'].agg(['min', 'max', len])"
   ]
  },
  {
   "cell_type": "code",
   "execution_count": null,
   "id": "f44f3c4c",
   "metadata": {
    "ExecuteTime": {
     "end_time": "2024-03-20T23:43:55.103423600Z",
     "start_time": "2024-03-20T23:43:54.969687200Z"
    }
   },
   "outputs": [],
   "source": [
    "df_gp[['结果', '冷门']].value_counts()"
   ]
  },
  {
   "cell_type": "markdown",
   "id": "fb85dc11",
   "metadata": {},
   "source": [
    "# 透视表"
   ]
  },
  {
   "cell_type": "code",
   "execution_count": 19,
   "id": "0aa48b6c",
   "metadata": {
    "ExecuteTime": {
     "end_time": "2024-03-20T23:43:59.354046100Z",
     "start_time": "2024-03-20T23:43:54.989800Z"
    }
   },
   "outputs": [
    {
     "ename": "NameError",
     "evalue": "name 'df_choice' is not defined",
     "output_type": "error",
     "traceback": [
      "\u001b[1;31m---------------------------------------------------------------------------\u001b[0m",
      "\u001b[1;31mNameError\u001b[0m                                 Traceback (most recent call last)",
      "Cell \u001b[1;32mIn[19], line 1\u001b[0m\n\u001b[1;32m----> 1\u001b[0m df_piv \u001b[38;5;241m=\u001b[39m df_choice\u001b[38;5;241m.\u001b[39mpivot_table(\n\u001b[0;32m      2\u001b[0m     index\u001b[38;5;241m=\u001b[39m[\u001b[38;5;124m'\u001b[39m\u001b[38;5;124mshaishi\u001b[39m\u001b[38;5;124m'\u001b[39m, \u001b[38;5;124m'\u001b[39m\u001b[38;5;124mzhudui_name\u001b[39m\u001b[38;5;124m'\u001b[39m,\u001b[38;5;124m'\u001b[39m\u001b[38;5;124mkedui_name\u001b[39m\u001b[38;5;124m'\u001b[39m,\u001b[38;5;124m'\u001b[39m\u001b[38;5;124m结果\u001b[39m\u001b[38;5;124m'\u001b[39m, \u001b[38;5;124m'\u001b[39m\u001b[38;5;124m冷门\u001b[39m\u001b[38;5;124m'\u001b[39m],\n\u001b[0;32m      3\u001b[0m     values\u001b[38;5;241m=\u001b[39m[\u001b[38;5;124m'\u001b[39m\u001b[38;5;124m胜赔差\u001b[39m\u001b[38;5;124m'\u001b[39m, \u001b[38;5;124m'\u001b[39m\u001b[38;5;124m平赔差\u001b[39m\u001b[38;5;124m'\u001b[39m, \u001b[38;5;124m'\u001b[39m\u001b[38;5;124m负赔差\u001b[39m\u001b[38;5;124m'\u001b[39m, \u001b[38;5;124m'\u001b[39m\u001b[38;5;124m胜价值比率\u001b[39m\u001b[38;5;124m'\u001b[39m, \u001b[38;5;124m'\u001b[39m\u001b[38;5;124m平价值比率\u001b[39m\u001b[38;5;124m'\u001b[39m, \u001b[38;5;124m'\u001b[39m\u001b[38;5;124m负价值比率\u001b[39m\u001b[38;5;124m'\u001b[39m, \u001b[38;5;124m'\u001b[39m\u001b[38;5;124m终盘水差\u001b[39m\u001b[38;5;124m'\u001b[39m, \u001b[38;5;124m'\u001b[39m\u001b[38;5;124m初盘水差\u001b[39m\u001b[38;5;124m'\u001b[39m],\n\u001b[0;32m      4\u001b[0m     aggfunc\u001b[38;5;241m=\u001b[39m[\u001b[38;5;124m'\u001b[39m\u001b[38;5;124mmax\u001b[39m\u001b[38;5;124m'\u001b[39m, \u001b[38;5;124m'\u001b[39m\u001b[38;5;124mmin\u001b[39m\u001b[38;5;124m'\u001b[39m, \u001b[38;5;124m'\u001b[39m\u001b[38;5;124mmean\u001b[39m\u001b[38;5;124m'\u001b[39m, \u001b[38;5;28mlen\u001b[39m],\n\u001b[0;32m      5\u001b[0m     fill_value\u001b[38;5;241m=\u001b[39m\u001b[38;5;241m0\u001b[39m,\n\u001b[0;32m      6\u001b[0m     margins\u001b[38;5;241m=\u001b[39m\u001b[38;5;241m1\u001b[39m)\n",
      "\u001b[1;31mNameError\u001b[0m: name 'df_choice' is not defined"
     ]
    }
   ],
   "source": [
    "df_piv = df_choice.pivot_table(\n",
    "    index=['shaishi', 'zhudui_name','kedui_name','结果', '冷门'],\n",
    "    values=['胜赔差', '平赔差', '负赔差', '胜价值比率', '平价值比率', '负价值比率', '终盘水差', '初盘水差'],\n",
    "    aggfunc=['max', 'min', 'mean', len],\n",
    "    fill_value=0,\n",
    "    margins=1)\n"
   ]
  },
  {
   "cell_type": "code",
   "execution_count": null,
   "id": "f7891fe4",
   "metadata": {
    "ExecuteTime": {
     "end_time": "2024-03-20T23:43:59.392516200Z",
     "start_time": "2024-03-20T23:43:59.356101700Z"
    }
   },
   "outputs": [],
   "source": [
    "# set_decimal_places(df_piv, 2)\n",
    "df_piv.head()"
   ]
  },
  {
   "cell_type": "code",
   "execution_count": null,
   "id": "76a71120",
   "metadata": {
    "ExecuteTime": {
     "end_time": "2024-03-20T23:45:13.612622700Z",
     "start_time": "2024-03-20T23:43:59.380625Z"
    }
   },
   "outputs": [],
   "source": [
    "# df_piv.to_excel?\n",
    "df_piv.to_excel(\"output_data/df_piv.xlsx\",\n",
    "                sheet_name='Sheet1',\n",
    "                index=True,  # 设置 index=False 来避免导出行索引\n",
    "                float_format=\"%.2f\")"
   ]
  },
  {
   "cell_type": "markdown",
   "id": "64c14928",
   "metadata": {},
   "source": [
    "# 从最后一期开始筛选"
   ]
  },
  {
   "cell_type": "markdown",
   "id": "7dc1969f",
   "metadata": {},
   "source": [
    "## 最后一期最后一场"
   ]
  },
  {
   "cell_type": "code",
   "execution_count": null,
   "id": "3cd45945-97ce-46b1-93fd-c97ee6ba275f",
   "metadata": {},
   "outputs": [],
   "source": [
    "df.tail(14)"
   ]
  },
  {
   "cell_type": "code",
   "execution_count": null,
   "id": "7334268a",
   "metadata": {
    "ExecuteTime": {
     "end_time": "2024-03-20T23:45:13.632166300Z",
     "start_time": "2024-03-20T23:45:13.618773400Z"
    }
   },
   "outputs": [],
   "source": [
    "def df_choice(df, m):\n",
    "    '''\n",
    "    一场一场的进行分析\n",
    "    df:DataFrames格式\n",
    "    m:代表要分析倒数第几场,1代表倒数第一场,2代表倒数第二场,最多14\n",
    "    '''\n",
    "    n = df.shape[0]\n",
    "    last_14 = df[:n - 14][(df[:n - 14]['shaishi'] == df.iloc[n - m]['shaishi']) &\n",
    "                          # (df[:n-14]['zhudui_name']==df.iloc[n]['zhudui_name']) &\n",
    "                          (df[:n - 14]['终胜赔'] <= df.iloc[n - m]['终胜赔'] + 0.1) &\n",
    "                          (df[:n - 14]['终胜赔'] >= df.iloc[n - m]['终胜赔'] - 0.1) &\n",
    "                          (df[:n - 14]['终负赔'] <= df.iloc[n - m]['终负赔'] + 0.1) &\n",
    "                          (df[:n - 14]['终负赔'] >= df.iloc[n - m]['终负赔'] - 0.1) &\n",
    "                          (df[:n - 14]['终盘让球'] == df.iloc[n - m]['终盘让球'])]\n",
    "    last_14_piv = last_14.pivot_table(index=['shaishi', 'zhudui_name', '结果', '冷门'],\n",
    "                                      values=[\n",
    "                                          '胜赔差', '平赔差', '负赔差', '胜价值比率',\n",
    "                                          '平价值比率', '负价值比率', '终盘水差', '初盘水差'\n",
    "                                      ],\n",
    "                                      aggfunc=['max', 'min', 'mean'],\n",
    "                                      fill_value=0,\n",
    "                                      margins=1)\n",
    "    last14_gp = last_14.groupby(['冷门', '结果'])\n",
    "\n",
    "    return last_14_piv, last14_gp\n",
    "\n",
    "\n",
    "# (last_14.groupby('冷门'))"
   ]
  },
  {
   "cell_type": "code",
   "execution_count": null,
   "id": "41579a93-e34d-4183-83e7-710ab2eccbf9",
   "metadata": {},
   "outputs": [],
   "source": [
    "\n"
   ]
  },
  {
   "cell_type": "code",
   "execution_count": null,
   "id": "c3d117cc",
   "metadata": {
    "ExecuteTime": {
     "end_time": "2024-03-20T23:45:13.690151700Z",
     "start_time": "2024-03-20T23:45:13.623932300Z"
    }
   },
   "outputs": [],
   "source": [
    "l14, l14_gp = df_choice(df, 14)"
   ]
  },
  {
   "cell_type": "code",
   "execution_count": null,
   "id": "3de10822",
   "metadata": {
    "ExecuteTime": {
     "end_time": "2024-03-20T23:45:13.737587600Z",
     "start_time": "2024-03-20T23:45:13.674370400Z"
    }
   },
   "outputs": [],
   "source": [
    "l14"
   ]
  },
  {
   "cell_type": "code",
   "execution_count": null,
   "id": "b8dfc734",
   "metadata": {
    "ExecuteTime": {
     "end_time": "2024-03-20T23:45:13.752992200Z",
     "start_time": "2024-03-20T23:45:13.711869900Z"
    }
   },
   "outputs": [],
   "source": [
    "# l14_gp.value_counts(normalize=True).unstack().fillna(0)"
   ]
  },
  {
   "cell_type": "code",
   "execution_count": null,
   "id": "250bc0bf",
   "metadata": {
    "ExecuteTime": {
     "end_time": "2024-03-20T23:45:13.768856800Z",
     "start_time": "2024-03-20T23:45:13.715836800Z"
    }
   },
   "outputs": [],
   "source": [
    "# l14_gp.value_counts().unstack().fillna(0)"
   ]
  },
  {
   "cell_type": "code",
   "execution_count": null,
   "id": "79c1bf6d",
   "metadata": {
    "ExecuteTime": {
     "end_time": "2024-03-20T23:45:13.777216100Z",
     "start_time": "2024-03-20T23:45:13.721851600Z"
    }
   },
   "outputs": [],
   "source": []
  },
  {
   "cell_type": "code",
   "execution_count": 20,
   "id": "06aff768",
   "metadata": {
    "ExecuteTime": {
     "end_time": "2024-03-20T23:45:13.781410200Z",
     "start_time": "2024-03-20T23:45:13.725407400Z"
    }
   },
   "outputs": [],
   "source": [
    "# last_14.pivot_table(index=['shaishi','zhudui_name','结果','冷门'],\n",
    "# values=['胜赔差', '平赔差','负赔差', '必胜比率', '必平比率', '必负比率', '终盘水差', '初盘水差'],\n",
    "# aggfunc=['max','min','mean'],fill_value=0,margins=1)"
   ]
  },
  {
   "cell_type": "code",
   "execution_count": 21,
   "id": "711aac66",
   "metadata": {
    "ExecuteTime": {
     "end_time": "2024-03-20T23:45:13.793906400Z",
     "start_time": "2024-03-20T23:45:13.730546600Z"
    }
   },
   "outputs": [],
   "source": [
    "# # last_14.groupby(['冷门', '结果'])[['zhudui_name','终胜赔','胜赔差']].agg(['min', 'max',len])\n",
    "# last14_gp=last_14.groupby(['冷门','结果'])\n",
    "# last14_gp['结果'].value_counts().unstack().fillna(0)"
   ]
  },
  {
   "cell_type": "code",
   "execution_count": 22,
   "id": "0879c519",
   "metadata": {
    "ExecuteTime": {
     "end_time": "2024-03-20T23:45:13.804226700Z",
     "start_time": "2024-03-20T23:45:13.736084900Z"
    }
   },
   "outputs": [],
   "source": [
    "# df[(df.zhudui_name=='狼队') & (df['冷门'].str.contains('冷'))]"
   ]
  },
  {
   "cell_type": "code",
   "execution_count": 23,
   "id": "73f08d4a",
   "metadata": {
    "ExecuteTime": {
     "end_time": "2024-03-20T23:45:13.859202600Z",
     "start_time": "2024-03-20T23:45:13.739254800Z"
    }
   },
   "outputs": [],
   "source": [
    "import pandas as pd\n",
    "from datetime import datetime\n",
    "\n",
    "dt_datetime = datetime.strptime(\"2018-01-01\", \"%Y-%m-%d\")\n",
    "# date_ch = datetime.date(dt_datetime)\n",
    "date_ch = pd.Timestamp(dt_datetime)\n",
    "\n",
    "\n",
    "def analyse_upset(df, date):\n",
    "    last_n = 14\n",
    "    last_saishi = df['shaishi'].tail(last_n)\n",
    "    last_teamname = df[['zhudui_name', 'kedui_name', 'game_date', '冷门']].tail(last_n)\n",
    "    statistics_zhu = []  # 最后14场主场冷门分布\n",
    "    probability_zhu = []  # 最后14场主场冷门分布的概率\n",
    "\n",
    "    statistics_ke = []  # 最后14场客场冷门分布\n",
    "    probability_ke = []  # 最后14场客场冷门分布的概率\n",
    "\n",
    "    zhudui_len = []\n",
    "    kedui_len = []\n",
    "\n",
    "    for i in range(last_n):\n",
    "        choice_zhudui = df[#(df['game_date'] >= date_ch) &\n",
    "                           (df['zhudui_name'] == last_teamname['zhudui_name'].iloc[i])]\n",
    "        #                            & (df['冷门'].str.contains('主') | df['冷门'].str.contains('正'))]\n",
    "\n",
    "        choice_kedui = df[#(df['game_date'] >= date_ch) &\n",
    "                          (df['kedui_name'] == last_teamname['kedui_name'].iloc[i])]\n",
    "        #                           & (df['冷门'].str.contains('客') | df['冷门'].str.contains('正'))]\n",
    "\n",
    "        x_zhu = choice_zhudui.groupby(\n",
    "            ['冷门', '结果'])['zhudui_name'].value_counts().unstack(fill_value=0)\n",
    "        x_ke = choice_kedui.groupby(\n",
    "            ['冷门', '结果'])['kedui_name'].value_counts().unstack(fill_value=0)\n",
    "\n",
    "        # x_zhu = choice_zhudui.groupby(['冷门', '结果'])['zhudui_name'].count().unstack(fill_value=0)\n",
    "        # x_ke = choice_kedui.groupby(['冷门', '结果'])['kedui_name'].count().unstack(fill_value=0)\n",
    "\n",
    "        zhu_normal = choice_zhudui.groupby(\n",
    "            ['冷门',\n",
    "             '结果'])['zhudui_name'].value_counts(normalize=True).unstack(fill_value=0)\n",
    "        ke_normal = choice_kedui.groupby(\n",
    "            ['冷门',\n",
    "             '结果'])['kedui_name'].value_counts(normalize=True).unstack(fill_value=0)\n",
    "        # zhu_normal = (x_zhu['冷门'] == \"正常\").sum() / ((x_zhu['冷门'] == \"正常\").sum() + (x_zhu['冷门'] != \"正常\").sum())\n",
    "        # zhu_lenmen = (x_zhu['冷门'] != \"正常\").sum() / ((x_zhu['冷门'] == \"正常\").sum() + (x_zhu['冷门'] != \"正常\").sum())\n",
    "\n",
    "        # ke_normal = (x_ke['冷门'] == \"正常\").sum() / ((x_ke['冷门'] == \"正常\").sum() + (x_ke['冷门'] != \"正常\").sum())\n",
    "        # ke_lenmen = (x_ke['冷门'] != \"正常\").sum() / ((x_ke['冷门'] == \"正常\").sum() + (x_ke['冷门'] != \"正常\").sum())\n",
    "\n",
    "        statistics_zhu.append(x_zhu)  # 主场冷门分布\n",
    "        probability_zhu.append(zhu_normal)  # 主场冷门概率\n",
    "\n",
    "        statistics_ke.append(x_ke)  # 客场冷门分布\n",
    "        probability_ke.append(ke_normal)  # 客场冷门概率\n",
    "\n",
    "    return statistics_zhu, probability_zhu, statistics_ke, probability_ke, zhudui_len, kedui_len"
   ]
  },
  {
   "cell_type": "markdown",
   "id": "59c623ee",
   "metadata": {},
   "source": [
    "# AI提供的代码，分组，2023/09/30上午"
   ]
  },
  {
   "cell_type": "code",
   "execution_count": 24,
   "id": "8b1d991d",
   "metadata": {
    "ExecuteTime": {
     "end_time": "2024-03-20T23:45:14.076451800Z",
     "start_time": "2024-03-20T23:45:13.757439400Z"
    }
   },
   "outputs": [
    {
     "ename": "NameError",
     "evalue": "name 'df' is not defined",
     "output_type": "error",
     "traceback": [
      "\u001b[1;31m---------------------------------------------------------------------------\u001b[0m",
      "\u001b[1;31mNameError\u001b[0m                                 Traceback (most recent call last)",
      "Cell \u001b[1;32mIn[24], line 11\u001b[0m\n\u001b[0;32m      9\u001b[0m sum_gp_df_ke \u001b[38;5;241m=\u001b[39m pd\u001b[38;5;241m.\u001b[39mDataFrame()\n\u001b[0;32m     10\u001b[0m \u001b[38;5;66;03m# 提取最后14行的数据\u001b[39;00m\n\u001b[1;32m---> 11\u001b[0m last_14_games \u001b[38;5;241m=\u001b[39m df\u001b[38;5;241m.\u001b[39mtail(\u001b[38;5;241m14\u001b[39m)\n\u001b[0;32m     13\u001b[0m \u001b[38;5;66;03m# 循环处理后14场比赛的数据\u001b[39;00m\n\u001b[0;32m     14\u001b[0m \u001b[38;5;28;01mfor\u001b[39;00m i \u001b[38;5;129;01min\u001b[39;00m \u001b[38;5;28mrange\u001b[39m(\u001b[38;5;241m0\u001b[39m, \u001b[38;5;241m14\u001b[39m):\n\u001b[0;32m     15\u001b[0m     \u001b[38;5;66;03m# 筛选出第i场比赛的数据，假设你有某种方式来区分不同场次的数据\u001b[39;00m\n\u001b[0;32m     16\u001b[0m     \u001b[38;5;66;03m# 假设'比赛编号'是用于区分不同比赛的列名\u001b[39;00m\n",
      "\u001b[1;31mNameError\u001b[0m: name 'df' is not defined"
     ]
    }
   ],
   "source": [
    "import pandas as pd\n",
    "\n",
    "# 读取包含所有比赛数据的表格\n",
    "# data = pd.read_csv('your_data.csv')  # 替换成你的数据文件路径\n",
    "\n",
    "# 创建一个空的DataFrame用于汇总结果\n",
    "# sum_gp_df_ai =  pd.DataFrame(columns=['冷门', '结果', 'zhudui_name情况', 'kedui_name情况'])\n",
    "sum_gp_df_zu = pd.DataFrame()\n",
    "sum_gp_df_ke = pd.DataFrame()\n",
    "# 提取最后14行的数据\n",
    "last_14_games = df.tail(14)\n",
    "\n",
    "# 循环处理后14场比赛的数据\n",
    "for i in range(0, 14):\n",
    "    # 筛选出第i场比赛的数据，假设你有某种方式来区分不同场次的数据\n",
    "    # 假设'比赛编号'是用于区分不同比赛的列名\n",
    "    game_data_zu = df[(df['zhudui_name'] == last_14_games['zhudui_name'].iloc[i])]\n",
    "    game_data_ke = df[(df['kedui_name'] == last_14_games['kedui_name'].iloc[i])]\n",
    "    # 按照['冷门', '结果']进行分组\n",
    "    grouped_zu = game_data_zu.groupby(\n",
    "        ['冷门', '结果'])['zhudui_name'].value_counts().unstack(fill_value=0)\n",
    "    grouped_ke = game_data_ke.groupby(\n",
    "        ['冷门', '结果'])['kedui_name'].value_counts().unstack(fill_value=0)\n",
    "\n",
    "    # 查看每个分组内的zhudui_name和kedui_name情况\n",
    "    # group_summary = grouped[['zhudui_name', 'kedui_name']].apply(lambda x: ', '.join(x))\n",
    "\n",
    "    # 添加结果到汇总DataFrame中\n",
    "    sum_gp_df_zu = pd.concat([sum_gp_df_zu, grouped_zu], axis=1)\n",
    "    sum_gp_df_ke = pd.concat([sum_gp_df_ke, grouped_ke], axis=1)\n",
    "\n",
    "# 重置索引\n",
    "# sum_gp_df_ai.reset_index(inplace=True)\n",
    "\n",
    "# 打印汇总的DataFrame\n",
    "(sum_gp_df_zu.fillna(-1)).astype(int)\n",
    "# game_data_zu"
   ]
  },
  {
   "cell_type": "code",
   "execution_count": null,
   "id": "67b37fb1",
   "metadata": {},
   "outputs": [],
   "source": [
    "from datetime import datetime\n",
    "def analyse_upset_ai(df, date):\n",
    "    # Ensure game_date is in datetime format\n",
    "    df['game_date'] = pd.to_datetime(df['game_date'], errors='coerce')\n",
    "\n",
    "    last_n = 14\n",
    "    last_saishi = df['shaishi'].tail(last_n)\n",
    "    last_teamname = df[['zhudui_name', 'kedui_name', 'game_date', '冷门']].tail(last_n)\n",
    "    statistics_zhu = pd.DataFrame()\n",
    "    probability_zhu = pd.DataFrame()\n",
    "    statistics_ke = pd.DataFrame()\n",
    "    probability_ke = pd.DataFrame()\n",
    "    current_datetime = datetime.now()\n",
    "\n",
    "    zhudui_len = []\n",
    "    kedui_len = []\n",
    "\n",
    "    for i in range(last_n):\n",
    "        choice_zhudui = df[(df['zhudui_name'] == last_teamname['zhudui_name'].iloc[i])]\n",
    "        choice_kedui = df[(df['kedui_name'] == last_teamname['kedui_name'].iloc[i])]\n",
    "\n",
    "        if not choice_zhudui.empty:\n",
    "            x_zhu = choice_zhudui.groupby(['冷门', '结果'])['zhudui_name'].value_counts().unstack(fill_value=0)\n",
    "            zhu_normal = choice_zhudui.groupby(['冷门', '结果'])['zhudui_name'].value_counts(normalize=True).unstack(fill_value=0)\n",
    "            zhudui_len.append(choice_zhudui['game_date'].diff().dt.days.fillna(0).astype(int).tolist())\n",
    "        else:\n",
    "            x_zhu = pd.DataFrame()\n",
    "            zhu_normal = pd.DataFrame()\n",
    "            zhudui_len.append(current_datetime.date())\n",
    "\n",
    "        if not choice_kedui.empty:\n",
    "            x_ke = choice_kedui.groupby(['冷门', '结果'])['kedui_name'].value_counts().unstack(fill_value=0)\n",
    "            ke_normal = choice_kedui.groupby(['冷门', '结果'])['kedui_name'].value_counts(normalize=True).unstack(fill_value=0)\n",
    "            kedui_len.append(choice_kedui['game_date'].diff().dt.days.fillna(0).astype(int).tolist())\n",
    "        else:\n",
    "            x_ke = pd.DataFrame()\n",
    "            ke_normal = pd.DataFrame()\n",
    "            kedui_len.append(current_datetime.date())\n",
    "\n",
    "        probability_zhu = pd.concat([probability_zhu, zhu_normal], axis=0, sort=False)\n",
    "        statistics_zhu = pd.concat([statistics_zhu, x_zhu], axis=0, sort=False)\n",
    "        probability_ke = pd.concat([probability_ke, ke_normal], axis=0, sort=False)\n",
    "        statistics_ke = pd.concat([statistics_ke, x_ke], axis=0, sort=False)\n",
    "\n",
    "    return statistics_zhu, probability_zhu, statistics_ke, probability_ke, zhudui_len, kedui_len"
   ]
  },
  {
   "cell_type": "markdown",
   "id": "e75ade5b",
   "metadata": {},
   "source": [
    "# AI提供的代码，透视表，2023/09/29晚上"
   ]
  },
  {
   "cell_type": "code",
   "execution_count": null,
   "id": "11b4d7f8",
   "metadata": {
    "ExecuteTime": {
     "end_time": "2024-03-20T23:45:14.140372600Z",
     "start_time": "2024-03-20T23:45:14.013942200Z"
    }
   },
   "outputs": [],
   "source": []
  },
  {
   "cell_type": "code",
   "execution_count": null,
   "id": "05eee507",
   "metadata": {
    "ExecuteTime": {
     "end_time": "2024-03-20T23:45:14.286215600Z",
     "start_time": "2024-03-20T23:45:14.020442800Z"
    }
   },
   "outputs": [],
   "source": [
    "import pandas as pd\n",
    "from datetime import datetime\n",
    "\n",
    "date_ch = pd.to_datetime(datetime.strptime(\"2018-01-01\", \"%Y-%m-%d\"))\n",
    "\n",
    "last_14_games = df.tail(14)\n",
    "\n",
    "summary_df = pd.DataFrame()\n",
    "\n",
    "for i in range(14):\n",
    "    game_data = df[df['zhudui_name'] == last_14_games['zhudui_name'].iloc[i]]\n",
    "\n",
    "    pivot_table = pd.pivot_table(game_data,\n",
    "                                 index=['shaishi', '冷门', 'zhudui_name'],\n",
    "                                 columns='结果',\n",
    "                                 aggfunc='size',\n",
    "                                 fill_value=0)\n",
    "\n",
    "    summary_df = pd.concat([summary_df, pivot_table], axis=0, sort=False)\n",
    "\n",
    "summary_df.reset_index(inplace=True)\n",
    "\n",
    "summary_df[[1, 3, 0]] = summary_df.fillna(-1)[[1, 3, 0]].astype(int)\n",
    "summary_df"
   ]
  },
  {
   "cell_type": "code",
   "execution_count": null,
   "id": "1694f583",
   "metadata": {
    "ExecuteTime": {
     "end_time": "2024-03-20T23:45:14.605021900Z",
     "start_time": "2024-03-20T23:45:14.151540700Z"
    }
   },
   "outputs": [],
   "source": [
    "# zhu_statis, zhu_pro, ke_statis, ke_pro = analyse_upset(df, date_ch)\n",
    "zhu_statis, zhu_pro, ke_statis, ke_pro, zhudui_len, kedui_len = analyse_upset_ai(\n",
    "    df, date_ch)"
   ]
  },
  {
   "cell_type": "markdown",
   "id": "a0a7032a",
   "metadata": {},
   "source": [
    "# 选定的主，客队冷门间隔"
   ]
  },
  {
   "cell_type": "code",
   "execution_count": null,
   "id": "eb449481",
   "metadata": {
    "ExecuteTime": {
     "end_time": "2024-03-20T23:45:14.617476900Z",
     "start_time": "2024-03-20T23:45:14.529604500Z"
    }
   },
   "outputs": [],
   "source": [
    "#选定的主，客队冷门间隔\n",
    "kedui_len\n",
    "zhudui_len\n",
    "# zhu_statis"
   ]
  },
  {
   "cell_type": "code",
   "execution_count": null,
   "id": "770948c6",
   "metadata": {
    "ExecuteTime": {
     "end_time": "2024-03-20T23:45:14.621528800Z",
     "start_time": "2024-03-20T23:45:14.538781900Z"
    }
   },
   "outputs": [],
   "source": [
    "# pd.concat(zhu_statis,ke_statis,axis=1)\n",
    "# ke_pro"
   ]
  },
  {
   "cell_type": "code",
   "execution_count": null,
   "id": "52d186c8",
   "metadata": {
    "ExecuteTime": {
     "end_time": "2024-03-20T23:45:14.701952Z",
     "start_time": "2024-03-20T23:45:14.542653Z"
    }
   },
   "outputs": [],
   "source": [
    "df.tail(14)"
   ]
  },
  {
   "cell_type": "markdown",
   "id": "ddb5b8ae",
   "metadata": {},
   "source": [
    "# 单场单独筛选进行观察"
   ]
  },
  {
   "cell_type": "code",
   "execution_count": null,
   "id": "72ef6710",
   "metadata": {
    "ExecuteTime": {
     "end_time": "2024-03-20T23:45:14.722188500Z",
     "start_time": "2024-03-20T23:45:14.601912300Z"
    }
   },
   "outputs": [],
   "source": [
    "# def choice_single(df, n=0):\n",
    "#     '''\n",
    "#     df:代表数据格式为DataFrame\n",
    "#     team_name:zhudui_name\n",
    "#     n=0:代表从最后14场的第(n+1=1)期开始\n",
    "#     '''\n",
    "#     last_n = 14\n",
    "#     last_saishi = df['shaishi'].tail(last_n)\n",
    "#     last_teamname = df[['zhudui_name', 'kedui_name']].tail(last_n)\n",
    "#     dt_datetime = datetime.strptime(\"2018-01-01\", \"%Y-%m-%d\")\n",
    "#     date_ch = pd.Timestamp(dt_datetime)\n",
    "# #     date_ch =  datetime.date(dt_datetime)\n",
    "#     # 根据game_date，zhudui_name，冷门包含主冷和正常的情况下进行筛选\n",
    "#     choice_zhudui = df[(df['game_date'] >= date_ch) &\n",
    "#                        (df['zhudui_name'] == last_teamname['zhudui_name'].iloc[n])\n",
    "#                        ]\n",
    "# #                        & (df['冷门'].str.contains('主') | df['冷门'].str.contains('正'))]\n",
    "\n",
    "#     # 根据game_date，kedui_name，冷门包含主冷和正常的情况下进行筛选\n",
    "#     # print('kedui_name=',last_teamname['kedui_name'])\n",
    "#     choice_kedui = df[(df['game_date'] >= date_ch) &\n",
    "#                       (df['kedui_name'] == last_teamname['kedui_name'].iloc[n])\n",
    "#                       ]\n",
    "# #                       & (df['冷门'].str.contains('客') | df['冷门'].str.contains('正'))]\n",
    "# #     print(choice_kedui)\n",
    "\n",
    "#     # 这里需要研究如何分组还是用透视表来分析，还没有完全理解意思？？？？？\n",
    "#     # 主队按照['冷门', '结果']分组，然后考察zhudui_name的统计值\n",
    "#     x_zhu = choice_zhudui.groupby(['冷门', '结果', 'shaishi'])[\n",
    "#         'zhudui_name'].value_counts().unstack(fill_value=0)\n",
    "#     # 主队按照['冷门', '结果']分组，然后考察kedui_name的统计值\n",
    "#     x_ke = choice_kedui.groupby(['冷门', '结果', 'shaishi'])[\n",
    "#         'kedui_name'].value_counts().unstack(fill_value=0)\n",
    "#     df_zhu_piv = choice_zhudui.pivot_table(index=['结果', '冷门', 'shaishi'],\n",
    "#                                            values=['zhudui_name'],\n",
    "#                                            aggfunc=[len], fill_value=0, margins=1)\n",
    "# #     print(choice_kedui.冷门)\n",
    "#     df_ke_piv = choice_kedui.pivot_table(index=['结果', '冷门', 'shaishi'],\n",
    "#                                          values=['kedui_name'],\n",
    "#                                          aggfunc=[len], fill_value=0, margins=1)\n",
    "\n",
    "#     return x_zhu, x_ke, df_zhu_piv, df_ke_piv"
   ]
  },
  {
   "cell_type": "code",
   "execution_count": null,
   "id": "f9fa30ce",
   "metadata": {
    "ExecuteTime": {
     "end_time": "2024-03-20T23:45:14.751198200Z",
     "start_time": "2024-03-20T23:45:14.611446400Z"
    }
   },
   "outputs": [],
   "source": [
    "import pandas as pd\n",
    "from datetime import datetime\n",
    "# choice_zhudui['game_date'] = pd.to_datetime(choice_zhudui['game_date'])\n",
    "\n",
    "\n",
    "\n",
    "def choice_single_ai(df, n=0):\n",
    "    '''\n",
    "    update date:2023/09/29\n",
    "    df: 代表数据格式为 DataFrame\n",
    "    n=0: 代表从最后14场的第(n+1=1)期开始\n",
    "    x_zhu: 按照['冷门', '结果']分组统计结果\n",
    "    x_ke:  按照['冷门', '结果']分组统计结果\n",
    "    df_zhu_piv: 主队透视表,index=['结果', '冷门', 'shaishi']\n",
    "    df_ke_piv:  客队透视表,index=['结果', '冷门', 'shaishi']\n",
    "    zhu_len:代表主场球队冷门的间隔，-1代表从来没有出现过冷门\n",
    "    ke_len:代表客场球队冷门的间隔，-1代表从来没有出现过冷门\n",
    "    '''\n",
    "    last_n = 14\n",
    "    last_saishi = df['shaishi'].tail(last_n)\n",
    "    last_teamname = df[['zhudui_name', 'kedui_name', 'game_date']].tail(last_n)\n",
    "    dt_datetime = datetime.strptime(\"2018-01-01\", \"%Y-%m-%d\")\n",
    "    date_ch = pd.Timestamp(dt_datetime).date()\n",
    "    date_ch = pd.to_datetime(dt_datetime)\n",
    "    # ts == pd.Timestamp(date) or ts.date() == date\n",
    "\n",
    "    # 根据game_date，zhudui_name，冷门包含主冷和正常的情况下进行筛选\n",
    "    choice_zhudui = df[#(df['game_date'] >= date_ch) &\n",
    "                        (df['zhudui_name'] == last_teamname['zhudui_name'].iloc[n])]\n",
    "\n",
    "    # 根据game_date，kedui_name，冷门包含主冷和正常的情况下进行筛选\n",
    "    choice_kedui = df[#(df['game_date'] >= date_ch) &\n",
    "                       (df['kedui_name'] == last_teamname['kedui_name'].iloc[n])]\n",
    "\n",
    "    # 如果筛选结果为空，则返回空的 DataFrame\n",
    "    # 检查choice_zhudui和choice_kedui是否为空\n",
    "    if (not choice_zhudui.empty):\n",
    "        x_zhu = choice_zhudui.groupby(\n",
    "            ['冷门', '结果'])['zhudui_name'].value_counts().unstack(fill_value=0)\n",
    "        zhu_normal = choice_zhudui.groupby(['冷门','结果'])['zhudui_name'].value_counts(normalize=True).unstack(fill_value=0)\n",
    "        if (not (choice_zhudui['冷门'].str.contains('主') & choice_zhudui['冷门'].str.contains('冷')).empty):\n",
    "            zhudui_len = choice_zhudui[choice_zhudui['冷门'].str.contains('冷')].game_date.diff().fillna(\n",
    "                         pd.Timedelta(0))\n",
    "            if zhudui_len.empty:\n",
    "                zhudui_len =[pd.Timedelta(0)]\n",
    "#                 print(f'zhudui_len={zhudui_len}')\n",
    "#             print(f'zhudui_len={zhudui_len}')\n",
    "        else:\n",
    "            zhudui_len =[pd.Timedelta(0)]\n",
    "    else:\n",
    "        x_zhu = pd.DataFrame()  # 空的DataFrame\n",
    "        zhu_normal = pd.DataFrame()  # 空的DataFrame\n",
    "\n",
    "    if not choice_kedui.empty:\n",
    "        x_ke = choice_kedui.groupby(\n",
    "            ['冷门', '结果'])['kedui_name'].value_counts().unstack(fill_value=0)\n",
    "        if (not (choice_kedui['冷门'].str.contains('客') & choice_kedui['冷门'].str.contains('冷')).empty):\n",
    "            kedui_len = choice_kedui[choice_kedui['冷门'].str.contains('冷')].game_date.diff().fillna(\n",
    "            pd.Timedelta(0))\n",
    "            if kedui_len.empty:\n",
    "                kedui_len =[pd.Timedelta(0)]\n",
    "#                 print(f'kedui_len={kedui_len}')\n",
    "        else:\n",
    "            kedui_len =[pd.Timedelta(0)]\n",
    "    else:\n",
    "        x_ke = pd.DataFrame()  # 空的DataFrame\n",
    "        ke_normal = pd.DataFrame()  # 空的DataFrame\n",
    "\n",
    "    df_zhu_piv = choice_zhudui.pivot_table(index=['结果', '冷门', 'shaishi'],\n",
    "                                           values=['zhudui_name'],\n",
    "                                           aggfunc=[len],\n",
    "                                           fill_value=0,\n",
    "                                           margins=1)\n",
    "    df_ke_piv = choice_kedui.pivot_table(index=['结果', '冷门', 'shaishi'],\n",
    "                                         values=['kedui_name'],\n",
    "                                         aggfunc=[len],\n",
    "                                         fill_value=0,\n",
    "                                         margins=1)\n",
    "#     if isinstance(zhudui_len , pd.Series):\n",
    "    zhuduilen_c=[i.days for i in zhudui_len]\n",
    "#     else:     \n",
    "#         zhuduilen_c=[zhudui_len.days]\n",
    "#     if isinstance(kedui_len , pd.Series):\n",
    "    keduilen_c=[i.days for i in kedui_len]\n",
    "#     else:     \n",
    "#         keduilen_c=[kedui_len.days]\n",
    "    return x_zhu, x_ke, df_zhu_piv, df_ke_piv, zhuduilen_c, keduilen_c"
   ]
  },
  {
   "cell_type": "code",
   "execution_count": null,
   "id": "db2ef537",
   "metadata": {
    "ExecuteTime": {
     "end_time": "2024-03-20T23:45:14.756363800Z",
     "start_time": "2024-03-20T23:45:14.627376100Z"
    }
   },
   "outputs": [],
   "source": [
    "# zu0,ke0,zhu0_piv,ke0_piv=choice_single(df,n=0)\n",
    "# zu0\n",
    "zu0, ke0, zhu0_piv, ke0_piv, zhudui_len, kedui_len = choice_single_ai(df, n=4)\n",
    "zu0\n",
    "# ke0\n",
    "# zhudui_len"
   ]
  },
  {
   "cell_type": "code",
   "execution_count": null,
   "id": "30cac705",
   "metadata": {
    "ExecuteTime": {
     "end_time": "2024-03-20T23:45:14.783313900Z",
     "start_time": "2024-03-20T23:45:14.672336400Z"
    }
   },
   "outputs": [],
   "source": [
    "ke0"
   ]
  },
  {
   "cell_type": "code",
   "execution_count": null,
   "id": "b03d058c",
   "metadata": {
    "ExecuteTime": {
     "end_time": "2024-03-20T23:45:14.793483900Z",
     "start_time": "2024-03-20T23:45:14.679324900Z"
    }
   },
   "outputs": [],
   "source": [
    "zhudui_len, kedui_len\n"
   ]
  },
  {
   "cell_type": "markdown",
   "id": "ff842d21",
   "metadata": {},
   "source": [
    "# 主队冷门间隔显示"
   ]
  },
  {
   "cell_type": "code",
   "execution_count": null,
   "id": "e0fee91f",
   "metadata": {
    "ExecuteTime": {
     "end_time": "2024-03-20T23:45:15.038102700Z",
     "start_time": "2024-03-20T23:45:14.688822900Z"
    }
   },
   "outputs": [],
   "source": [
    "\n",
    "\n",
    "plt.figure(figsize=(8, 5))\n",
    "# if isinstance(zhudui_len,list) :\n",
    "if (len(zhudui_len) >=3):\n",
    "    k = 3\n",
    "else: \n",
    "    k=1\n",
    "# else:\n",
    "#     k = 1\n",
    "#     zhudui_len=[zhudui_len]\n",
    "sns.set(font_scale=2)\n",
    "sns.set_style('darkgrid')\n",
    "plt.rcParams['font.sans-serif'] = ['SimHei']  # 解决中文乱码\n",
    "plt.rcParams['axes.unicode_minus'] = False  # 解决负号不显示的问题# 绘制折线图\n",
    "if sum(zhudui_len[-k:]) !=0:     \n",
    "    y_data=zhudui_len[-k:][::-1]\n",
    "else:\n",
    "    y_data=[-1]*k\n",
    "barplot = sns.barplot(x=list(range(0, k)), y= y_data, palette=\"Blues_d\")\n",
    "for p in barplot.patches:\n",
    "    barplot.annotate(format(p.get_height(), '.0f'), \n",
    "                   (p.get_x() + p.get_width() / 2., p.get_height()), \n",
    "                   ha = 'center', va = 'center', \n",
    "                   xytext = (0, 10), \n",
    "                   textcoords = 'offset points',\n",
    "                   fontsize = 10)\n",
    "plt.title('主队冷门间隔')  # 显示图像\n",
    "plt.show()\n"
   ]
  },
  {
   "cell_type": "markdown",
   "id": "1f8350ed",
   "metadata": {},
   "source": [
    "# 客队冷门间隔显示"
   ]
  },
  {
   "cell_type": "code",
   "execution_count": null,
   "id": "0978c3c6",
   "metadata": {
    "ExecuteTime": {
     "end_time": "2024-03-20T23:45:15.287994800Z",
     "start_time": "2024-03-20T23:45:14.836789500Z"
    }
   },
   "outputs": [],
   "source": [
    "plt.figure(figsize=(8, 5))\n",
    "# if isinstance(kedui_len,list) :\n",
    "if (len(kedui_len) >=3):\n",
    "    k = 3\n",
    "else: \n",
    "    k=1\n",
    "# else:\n",
    "#     k = 1\n",
    "#     kedui_len=[kedui_len]\n",
    "sns.set(font_scale=2)\n",
    "sns.set_style('darkgrid')\n",
    "plt.rcParams['font.sans-serif'] = ['SimHei']  # 解决中文乱码\n",
    "plt.rcParams['axes.unicode_minus'] = False  # 解决负号不显示的问题# 绘制折线图\n",
    "if sum(kedui_len[-k:]) !=0:     \n",
    "    y_data_ke=kedui_len[-k:][::-1]\n",
    "else:\n",
    "    y_data_ke=[-1]*k\n",
    "barplot = sns.barplot(x=list(range(0, k)), y= y_data_ke, palette=\"Blues_d\")\n",
    "for p in barplot.patches:\n",
    "    barplot.annotate(format(p.get_height(), '.0f'), \n",
    "                   (p.get_x() + p.get_width() / 2., p.get_height()), \n",
    "                   ha = 'center', va = 'center', \n",
    "                   xytext = (0, 10), \n",
    "                   textcoords = 'offset points',\n",
    "                   fontsize = 10)\n",
    "plt.title('客队冷门间隔')  # 显示图像\n",
    "plt.show()"
   ]
  },
  {
   "cell_type": "markdown",
   "id": "6fb07599",
   "metadata": {},
   "source": [
    "# 每隔14场，统计冷门的情况"
   ]
  },
  {
   "cell_type": "code",
   "execution_count": null,
   "id": "af347039",
   "metadata": {
    "ExecuteTime": {
     "end_time": "2024-03-20T23:45:16.229143900Z",
     "start_time": "2024-03-20T23:45:14.999966300Z"
    }
   },
   "outputs": [],
   "source": [
    "\n",
    "# 指定每个统计窗口的大小\n",
    "window_size = 14\n",
    "\n",
    "# 初始化一个用于存储结果的空列表\n",
    "results = []\n",
    "\n",
    "# 使用循环来遍历 DataFrame，每 14 行统计一次\n",
    "for i in range(0, len(df), window_size):\n",
    "    window = df['冷门'].iloc[i:i+window_size]  # 获取每个窗口的数据\n",
    "    value_counts = window.value_counts()  # 统计值的数量\n",
    "    results.append(value_counts)\n",
    "\n",
    "# 将结果存储在一个新的 DataFrame 中\n",
    "result_df = pd.concat(results, axis=1).fillna(0).T\n",
    "result_df.index = [f'场次{i+1}' for i in range(len(results))]\n",
    "\n",
    "# 把result_df的值变成整数\n",
    "result_df = result_df.astype(int)\n",
    "\n",
    "# 输出结果\n",
    "(result_df[::-1])\n",
    "# 在这个示例中，我们首先创建了一个示例 DataFrame df，然后指定了每个统计窗口的大小为 14 行。接下来，我们使用一个循环来遍历 DataFrame，每次取出 14 行数据，并使用 value_counts 方法统计这个窗口中不同值的数量。最后，我们将每个窗口的统计结果存储在一个列表中，并将其转换为一个新的 DataFrame result_df。\n",
    "\n",
    "# result_df 包含了每个窗口中 '冷门' 列中不同值的数量，每一行代表一个统计窗口。你可以根据需要修改示例代码以适应你的实际数据。\n",
    "\n"
   ]
  },
  {
   "cell_type": "code",
   "execution_count": null,
   "id": "d4a97545",
   "metadata": {
    "ExecuteTime": {
     "end_time": "2024-03-20T23:45:16.633534900Z",
     "start_time": "2024-03-20T23:45:16.233072500Z"
    }
   },
   "outputs": [],
   "source": [
    "plt.figure(figsize=(8, 5))\n",
    "nn=20\n",
    "sns.set(font_scale=1.5)\n",
    "sns.set_style('darkgrid')\n",
    "plt.rcParams['font.sans-serif'] = ['SimHei']  # 解决中文乱码\n",
    "plt.rcParams['axes.unicode_minus'] = False  # 解决负号不显示的问题# 绘制折线图\n",
    "barplot = sns.barplot(x=list(range(0, nn)), y= result_df[::-1].正常.head(nn), palette=\"Blues_d\")\n",
    "for p in barplot.patches:\n",
    "    barplot.annotate(format(p.get_height(), '.0f'), \n",
    "                   (p.get_x() + p.get_width() / 2., p.get_height()), \n",
    "                   ha = 'center', va = 'center', \n",
    "                   xytext = (0, 10), \n",
    "                   textcoords = 'offset points',\n",
    "                   fontsize = 10)\n",
    "plt.title('14场正常的情况')  # 显示图像\n",
    "plt.plot(list(range(0, nn)), [result_df[::-1].正常.mean()]*nn, 'r--')\n",
    "plt.show()"
   ]
  },
  {
   "cell_type": "code",
   "execution_count": 25,
   "id": "1799d59d",
   "metadata": {
    "ExecuteTime": {
     "end_time": "2024-03-20T23:45:17.127022800Z",
     "start_time": "2024-03-20T23:45:16.630399400Z"
    }
   },
   "outputs": [
    {
     "ename": "NameError",
     "evalue": "name 'df' is not defined",
     "output_type": "error",
     "traceback": [
      "\u001b[1;31m---------------------------------------------------------------------------\u001b[0m",
      "\u001b[1;31mNameError\u001b[0m                                 Traceback (most recent call last)",
      "Cell \u001b[1;32mIn[25], line 1\u001b[0m\n\u001b[1;32m----> 1\u001b[0m df1 \u001b[38;5;241m=\u001b[39m df[df[\u001b[38;5;124m'\u001b[39m\u001b[38;5;124mshaishi\u001b[39m\u001b[38;5;124m'\u001b[39m] \u001b[38;5;241m==\u001b[39m \u001b[38;5;124m'\u001b[39m\u001b[38;5;124m英超\u001b[39m\u001b[38;5;124m'\u001b[39m]  \u001b[38;5;66;03m# 将'英超'替换为您想要筛选的shaishi\u001b[39;00m\n\u001b[0;32m      3\u001b[0m \u001b[38;5;66;03m# 按照'zhudui_name'进行筛选\u001b[39;00m\n\u001b[0;32m      4\u001b[0m df2 \u001b[38;5;241m=\u001b[39m df[df[\u001b[38;5;124m'\u001b[39m\u001b[38;5;124mzhudui_name\u001b[39m\u001b[38;5;124m'\u001b[39m] \u001b[38;5;241m==\u001b[39m \u001b[38;5;124m'\u001b[39m\u001b[38;5;124m布伦特\u001b[39m\u001b[38;5;124m'\u001b[39m]  \u001b[38;5;66;03m# 将'巴萨'替换为您想要筛选的zhudui_name\u001b[39;00m\n",
      "\u001b[1;31mNameError\u001b[0m: name 'df' is not defined"
     ]
    }
   ],
   "source": [
    "df1 = df[df['shaishi'] == '英超']  # 将'英超'替换为您想要筛选的shaishi\n",
    "\n",
    "# 按照'zhudui_name'进行筛选\n",
    "df2 = df[df['zhudui_name'] == '布伦特']  # 将'巴萨'替换为您想要筛选的zhudui_name\n",
    "\n",
    "# 按照'冷门'进行筛选\n",
    "df3 = df[~df['冷门'].str.contains('正常')]  # 将'正常'替换为您想要筛选的冷门类型\n",
    "\n",
    "# 查看'终盘主水'的分布情况\n",
    "plt.figure(figsize=(12, 8))\n",
    "plt.subplot(1, 2, 1)\n",
    "n1, bins1, patches1 = plt.hist(df['终盘主水'], bins=10, alpha=0.5, label='终盘主水')\n",
    "for i in range(len(patches1)):\n",
    "    plt.text(patches1[i].xy[0], n1[i], str(int(n1[i])))\n",
    "plt.legend(loc='upper right')\n",
    "plt.title('终盘主水分布情况')\n",
    "\n",
    "# 查看'终盘客水'的分布情况\n",
    "plt.subplot(1, 2, 2)\n",
    "n2, bins2, patches2 = plt.hist(df['终盘客水'], bins=10, alpha=0.5, label='终盘客水')\n",
    "for i in range(len(patches2)):\n",
    "    plt.text(patches2[i].xy[0], n2[i], str(int(n2[i])))\n",
    "plt.legend(loc='upper right')\n",
    "plt.title('终盘客水分布情况')\n",
    "plt.show()\n"
   ]
  },
  {
   "cell_type": "code",
   "execution_count": null,
   "id": "43ee0cd1",
   "metadata": {
    "ExecuteTime": {
     "end_time": "2024-03-20T23:45:17.150104300Z",
     "start_time": "2024-03-20T23:45:17.127022800Z"
    }
   },
   "outputs": [],
   "source": [
    "# plt.figure(figsize=(8, 5))\n",
    "# k=3\n",
    "# sns.set_style('darkgrid')\n",
    "# plt.rcParams['font.sans-serif'] = ['SimHei']  # 解决中文乱码\n",
    "# plt.rcParams['axes.unicode_minus'] = False  # 解决负号不显示的问题# 绘制折线图\n",
    "# ax_ke =sns.barplot(x=list(range(0,k)),y=kedui_len.iloc[-k:].values)\n",
    "# # ax = ax.axes[0,0]\n",
    "# for x, y in zip(list(range(0,k)), kedui_len.iloc[-k:].values):ax_ke.text(x, y, '%.0f' % y, ha='center', va='center', fontsize=20, color='blue')# 设置标题\n",
    "# ax.title.set_text('客队冷门间隔')# 显示图像\n",
    "# plt.show()\n",
    "\n",
    "# kedui_len.iloc[-k:]"
   ]
  },
  {
   "cell_type": "code",
   "execution_count": null,
   "id": "c182ad91",
   "metadata": {
    "ExecuteTime": {
     "end_time": "2024-03-20T23:45:17.160540600Z",
     "start_time": "2024-03-20T23:45:17.133345600Z"
    }
   },
   "outputs": [],
   "source": [
    "zu0"
   ]
  },
  {
   "cell_type": "code",
   "execution_count": null,
   "id": "6174758a",
   "metadata": {
    "ExecuteTime": {
     "end_time": "2024-03-20T23:45:17.302801200Z",
     "start_time": "2024-03-20T23:45:17.142265100Z"
    }
   },
   "outputs": [],
   "source": [
    "zhu0_piv"
   ]
  },
  {
   "cell_type": "code",
   "execution_count": null,
   "id": "7e76bbfd",
   "metadata": {
    "ExecuteTime": {
     "end_time": "2024-03-20T23:45:17.350962700Z",
     "start_time": "2024-03-20T23:45:17.152198Z"
    }
   },
   "outputs": [],
   "source": [
    "# n=0\n",
    "last_saishi = df['shaishi'].tail(14)\n",
    "last_teamname = df[['zhudui_name', 'kedui_name']].tail(14)\n",
    "choice_kedui = df[(df['game_date'] >= date_ch)\n",
    "                  & (df['kedui_name'] == (last_teamname['kedui_name'].iloc[2])) &\n",
    "                  (df['冷门'].str.contains('主') | df['冷门'].str.contains('客')\n",
    "                   | df['冷门'].str.contains('正'))]\n",
    "# last_teamname['kedui_name'].iloc[1]\n",
    "choice_kedui"
   ]
  },
  {
   "cell_type": "code",
   "execution_count": null,
   "id": "2ec5795b",
   "metadata": {
    "ExecuteTime": {
     "end_time": "2024-03-20T23:45:17.484126800Z",
     "start_time": "2024-03-20T23:45:17.242063100Z"
    }
   },
   "outputs": [],
   "source": [
    "df_piv_2 = df.pivot_table(index=['zhudui_name', '冷门', '结果'],\n",
    "                          values=['主队进球', '主队失球', '主近10胜', '主近10平', '主近10负'],\n",
    "                          aggfunc=['min', 'max', 'mean'],\n",
    "                          fill_value=0,\n",
    "                          margins=1)\n",
    "df_piv_2"
   ]
  },
  {
   "cell_type": "code",
   "execution_count": null,
   "id": "14262f92",
   "metadata": {
    "ExecuteTime": {
     "end_time": "2024-03-20T23:45:17.497720800Z",
     "start_time": "2024-03-20T23:45:17.357676300Z"
    }
   },
   "outputs": [],
   "source": [
    "last_saishi = df['shaishi'].tail(14)\n",
    "last_teamname = df[['zhudui_name', 'kedui_name']].tail(14)\n",
    "z_name = last_teamname['zhudui_name'].values[0]\n",
    "# z_name='拜仁'\n",
    "# df_piv_2.loc[z_name].unstack(fill_value=-1)\n",
    "print(z_name)\n",
    "df_piv_2.loc[z_name]"
   ]
  },
  {
   "cell_type": "code",
   "execution_count": null,
   "id": "99851594",
   "metadata": {
    "ExecuteTime": {
     "end_time": "2024-03-20T23:45:17.517477500Z",
     "start_time": "2024-03-20T23:45:17.378791100Z"
    }
   },
   "outputs": [],
   "source": [
    "# df.xs('one', level='second')"
   ]
  },
  {
   "cell_type": "code",
   "execution_count": null,
   "id": "c63f9a44",
   "metadata": {
    "ExecuteTime": {
     "end_time": "2024-03-20T23:45:17.604683100Z",
     "start_time": "2024-03-20T23:45:17.383040200Z"
    }
   },
   "outputs": [],
   "source": [
    "df_piv_2.loc[(z_name, slice(None))]\n",
    "# 同样，如果想只保留id中的’a’，则可以使用：\n",
    "# df.loc[(slice(None),'a'),:]"
   ]
  },
  {
   "cell_type": "code",
   "execution_count": null,
   "id": "ed63a67e",
   "metadata": {
    "ExecuteTime": {
     "end_time": "2024-03-20T23:45:17.719992600Z",
     "start_time": "2024-03-20T23:45:17.402693300Z"
    }
   },
   "outputs": [],
   "source": [
    "df_piv"
   ]
  },
  {
   "cell_type": "code",
   "execution_count": null,
   "id": "4b716b28",
   "metadata": {
    "ExecuteTime": {
     "end_time": "2024-03-20T23:45:35.956247Z",
     "start_time": "2024-03-20T23:45:17.428908500Z"
    }
   },
   "outputs": [],
   "source": [
    "# df_piv_2.loc[slice('正常',1), :]\n",
    "# df_piv = df_piv.reset_index(drop=True)\n",
    "df_piv.loc[['英超', '意甲', '西甲', '法甲'],\n",
    "           slice(None), :].to_excel('output_data/23111期最后14场.xlsx',\n",
    "                                    sheet_name='Sheet1',\n",
    "                                    index=True,  # 设置 index=False 来避免导出行索引\n",
    "                                    float_format=\"%.3f\")"
   ]
  },
  {
   "cell_type": "code",
   "execution_count": null,
   "id": "1fdc4c0b",
   "metadata": {
    "ExecuteTime": {
     "end_time": "2024-03-20T23:45:35.976075500Z",
     "start_time": "2024-03-20T23:45:35.958083600Z"
    }
   },
   "outputs": [],
   "source": [
    "# midx = pd.MultiIndex.from_product([['A0','A1'], ['B0','B1','B2','B3']])\n",
    "# columns = ['foo', 'bar']\n",
    "# dfmi = pd.DataFrame(np.arange(16).reshape((len(midx), len(columns))),\n",
    "#                     index=midx, columns=columns)\n",
    "# dfmi"
   ]
  },
  {
   "cell_type": "code",
   "execution_count": null,
   "id": "d3590a64",
   "metadata": {
    "ExecuteTime": {
     "end_time": "2024-03-20T23:45:35.981410500Z",
     "start_time": "2024-03-20T23:45:35.963259200Z"
    }
   },
   "outputs": [],
   "source": [
    "# dfmi.loc[(slice(None), slice('B0', 'B1')), :]"
   ]
  },
  {
   "cell_type": "code",
   "execution_count": null,
   "id": "ede647f3",
   "metadata": {
    "ExecuteTime": {
     "end_time": "2024-03-20T23:45:36.040498Z",
     "start_time": "2024-03-20T23:45:35.967357400Z"
    }
   },
   "outputs": [],
   "source": [
    "df.groupby('冷门').filter(lambda x: (x.终胜赔 > 1.5).all())"
   ]
  },
  {
   "cell_type": "code",
   "execution_count": null,
   "id": "4b13b752",
   "metadata": {
    "ExecuteTime": {
     "end_time": "2024-03-20T23:45:36.186467500Z",
     "start_time": "2024-03-20T23:45:36.036110Z"
    }
   },
   "outputs": [],
   "source": [
    "df.truncate(before='2019', after='2022', axis=0)"
   ]
  },
  {
   "cell_type": "code",
   "execution_count": 26,
   "id": "8a811919",
   "metadata": {
    "ExecuteTime": {
     "end_time": "2024-03-20T23:45:36.317336300Z",
     "start_time": "2024-03-20T23:45:36.113054100Z"
    }
   },
   "outputs": [
    {
     "ename": "NameError",
     "evalue": "name 'df' is not defined",
     "output_type": "error",
     "traceback": [
      "\u001b[1;31m---------------------------------------------------------------------------\u001b[0m",
      "\u001b[1;31mNameError\u001b[0m                                 Traceback (most recent call last)",
      "Cell \u001b[1;32mIn[26], line 1\u001b[0m\n\u001b[1;32m----> 1\u001b[0m df6 \u001b[38;5;241m=\u001b[39m df\u001b[38;5;241m.\u001b[39mgroupby(\u001b[38;5;124m'\u001b[39m\u001b[38;5;124mshaishi\u001b[39m\u001b[38;5;124m'\u001b[39m, as_index\u001b[38;5;241m=\u001b[39m\u001b[38;5;28;01mFalse\u001b[39;00m)\u001b[38;5;241m.\u001b[39mapply(\n\u001b[0;32m      2\u001b[0m     \u001b[38;5;28;01mlambda\u001b[39;00m x: x\u001b[38;5;241m.\u001b[39mloc[x\u001b[38;5;241m.\u001b[39mloc[x[\u001b[38;5;124m'\u001b[39m\u001b[38;5;124m主队进球\u001b[39m\u001b[38;5;124m'\u001b[39m] \u001b[38;5;241m>\u001b[39m \u001b[38;5;241m15\u001b[39m]\u001b[38;5;241m.\u001b[39mindex])\u001b[38;5;241m.\u001b[39mreset_index(drop\u001b[38;5;241m=\u001b[39m\u001b[38;5;28;01mTrue\u001b[39;00m)\n\u001b[0;32m      3\u001b[0m df6\n",
      "\u001b[1;31mNameError\u001b[0m: name 'df' is not defined"
     ]
    }
   ],
   "source": [
    "df6 = df.groupby('shaishi', as_index=False).apply(\n",
    "    lambda x: x.loc[x.loc[x['主队进球'] > 15].index]).reset_index(drop=True)\n",
    "df6"
   ]
  },
  {
   "cell_type": "code",
   "execution_count": null,
   "id": "24acedb3",
   "metadata": {
    "ExecuteTime": {
     "end_time": "2024-03-20T23:45:36.471748600Z",
     "start_time": "2024-03-20T23:45:36.279921800Z"
    }
   },
   "outputs": [],
   "source": [
    "# df.groupby('冷门').filter(lambda x: (x.结果>0).all())\n",
    "mean_gdp = df.loc[(df['终胜赔'] < df['终负赔']), '终胜赔'].mean()\n",
    "df.query('终胜赔> @mean_gdp')  # @ 引入变量"
   ]
  },
  {
   "cell_type": "markdown",
   "id": "cc58b7df",
   "metadata": {},
   "source": [
    "# 按照筛选出终让球小于初让球，然后按照冷门分组，查看结果"
   ]
  },
  {
   "cell_type": "code",
   "execution_count": null,
   "id": "1a633add",
   "metadata": {
    "ExecuteTime": {
     "end_time": "2024-03-20T23:45:36.483893400Z",
     "start_time": "2024-03-20T23:45:36.335548900Z"
    }
   },
   "outputs": [],
   "source": [
    "# df.loc[df.终盘让球<df.初盘让球,:].groupby('冷门')['结果'].value_counts().unstack(fill_value=0)\n",
    "df.loc[df.让球升降 == '升', :].groupby('冷门')['结果'].value_counts().unstack(\n",
    "    fill_value=0)"
   ]
  },
  {
   "cell_type": "code",
   "execution_count": null,
   "id": "d9578008",
   "metadata": {
    "ExecuteTime": {
     "end_time": "2024-03-20T23:45:36.488985600Z",
     "start_time": "2024-03-20T23:45:36.353976500Z"
    }
   },
   "outputs": [],
   "source": []
  },
  {
   "cell_type": "code",
   "execution_count": null,
   "id": "addc5673",
   "metadata": {
    "ExecuteTime": {
     "end_time": "2024-03-20T23:45:36.512014Z",
     "start_time": "2024-03-20T23:45:36.356610500Z"
    }
   },
   "outputs": [],
   "source": [
    "# df.loc[df.终盘让球==df.初盘让球,:].groupby('冷门')['结果'].value_counts().unstack(fill_value=0)\n",
    "df.loc[df.让球升降 == '平', :].groupby('冷门')['结果'].value_counts().unstack(\n",
    "    fill_value=0)"
   ]
  },
  {
   "cell_type": "code",
   "execution_count": null,
   "id": "fa0ba0a7",
   "metadata": {
    "ExecuteTime": {
     "end_time": "2024-03-20T23:45:36.517627400Z",
     "start_time": "2024-03-20T23:45:36.382831900Z"
    }
   },
   "outputs": [],
   "source": [
    "# df.loc[df.终盘让球>df.初盘让球,:].groupby('冷门')['结果'].value_counts().unstack(fill_value=0)\n",
    "df.loc[df.让球升降 == '降', :].groupby('冷门')['结果'].value_counts().unstack(\n",
    "    fill_value=0)"
   ]
  },
  {
   "cell_type": "code",
   "execution_count": null,
   "id": "45f93036",
   "metadata": {
    "ExecuteTime": {
     "end_time": "2024-03-20T23:45:36.545483700Z",
     "start_time": "2024-03-20T23:45:36.402141300Z"
    }
   },
   "outputs": [],
   "source": [
    "#作用不大\n",
    "df.groupby('让球升降')[['结果', '冷门']].value_counts(normalize=1).unstack(fill_value=0)"
   ]
  },
  {
   "cell_type": "code",
   "execution_count": null,
   "id": "01e41a7c",
   "metadata": {
    "ExecuteTime": {
     "end_time": "2024-03-20T23:45:36.549597100Z",
     "start_time": "2024-03-20T23:45:36.428560500Z"
    }
   },
   "outputs": [],
   "source": [
    "\n"
   ]
  },
  {
   "cell_type": "markdown",
   "id": "904dd933",
   "metadata": {},
   "source": [
    "# 按照让球升降分组，查看冷门和结果"
   ]
  },
  {
   "cell_type": "code",
   "execution_count": 27,
   "id": "75041e7a",
   "metadata": {
    "ExecuteTime": {
     "end_time": "2024-03-20T23:45:36.654535700Z",
     "start_time": "2024-03-20T23:45:36.434190700Z"
    }
   },
   "outputs": [
    {
     "ename": "NameError",
     "evalue": "name 'df' is not defined",
     "output_type": "error",
     "traceback": [
      "\u001b[1;31m---------------------------------------------------------------------------\u001b[0m",
      "\u001b[1;31mNameError\u001b[0m                                 Traceback (most recent call last)",
      "Cell \u001b[1;32mIn[27], line 1\u001b[0m\n\u001b[1;32m----> 1\u001b[0m df\u001b[38;5;241m.\u001b[39mloc[df\u001b[38;5;241m.\u001b[39m让球升降 \u001b[38;5;241m==\u001b[39m \u001b[38;5;124m'\u001b[39m\u001b[38;5;124m升\u001b[39m\u001b[38;5;124m'\u001b[39m, :]\u001b[38;5;241m.\u001b[39mgroupby(\u001b[38;5;124m'\u001b[39m\u001b[38;5;124m冷门\u001b[39m\u001b[38;5;124m'\u001b[39m)[\u001b[38;5;124m'\u001b[39m\u001b[38;5;124m结果\u001b[39m\u001b[38;5;124m'\u001b[39m]\u001b[38;5;241m.\u001b[39mvalue_counts(normalize\u001b[38;5;241m=\u001b[39m\u001b[38;5;241m1\u001b[39m)\u001b[38;5;241m.\u001b[39munstack(\n\u001b[0;32m      2\u001b[0m     fill_value\u001b[38;5;241m=\u001b[39m\u001b[38;5;241m0\u001b[39m)\n",
      "\u001b[1;31mNameError\u001b[0m: name 'df' is not defined"
     ]
    }
   ],
   "source": [
    "df.loc[df.让球升降 == '升', :].groupby('冷门')['结果'].value_counts(normalize=1).unstack(\n",
    "    fill_value=0)"
   ]
  },
  {
   "cell_type": "code",
   "execution_count": null,
   "id": "8897a6bc",
   "metadata": {
    "ExecuteTime": {
     "end_time": "2024-03-20T23:45:36.658684300Z",
     "start_time": "2024-03-20T23:45:36.453212100Z"
    }
   },
   "outputs": [],
   "source": [
    "# df.groupby(['冷门', '让球升降'])['结果'].value_counts().unstack(fill_value=0)"
   ]
  },
  {
   "cell_type": "code",
   "execution_count": null,
   "id": "fefcaf6b",
   "metadata": {
    "ExecuteTime": {
     "end_time": "2024-03-20T23:45:36.700066600Z",
     "start_time": "2024-03-20T23:45:36.457194700Z"
    }
   },
   "outputs": [],
   "source": [
    "df_shaishi_冷门=df.groupby(['shaishi','冷门',\n",
    "            '让球升降'])['结果'].value_counts(normalize=0).unstack(fill_value=0)\n",
    "\n",
    "df_shaishi_冷门\n"
   ]
  },
  {
   "cell_type": "code",
   "execution_count": null,
   "id": "fb8dbc07",
   "metadata": {
    "ExecuteTime": {
     "end_time": "2024-03-20T23:45:36.713282300Z",
     "start_time": "2024-03-20T23:45:36.480238500Z"
    }
   },
   "outputs": [],
   "source": []
  },
  {
   "cell_type": "code",
   "execution_count": null,
   "id": "09933b28",
   "metadata": {
    "ExecuteTime": {
     "end_time": "2024-03-20T23:45:36.768897300Z",
     "start_time": "2024-03-20T23:45:36.485925400Z"
    }
   },
   "outputs": [],
   "source": [
    "df_piv_3 = df.pivot_table(index=['shaishi', '让球升降', '冷门', '结果'],\n",
    "                          values=[\n",
    "                              '主队进球', '主队失球', '主近10胜', '主近10平', '主近10负',\n",
    "                              '客队进球', '客队失球', '客近10胜', '客近10平', '客近10负'\n",
    "                          ],\n",
    "                          aggfunc=['mean'],\n",
    "                          fill_value=0,\n",
    "                          margins=1)\n",
    "df_piv_3"
   ]
  },
  {
   "cell_type": "code",
   "execution_count": null,
   "id": "a646325b",
   "metadata": {
    "ExecuteTime": {
     "end_time": "2024-03-20T23:45:36.837663500Z",
     "start_time": "2024-03-20T23:45:36.537152Z"
    }
   },
   "outputs": [],
   "source": [
    "#根据多层索引的第一层'shaishi'进行筛选,也可以根据多层来筛选，比如'意甲','升'\n",
    "df_piv_3.loc['法甲', :]"
   ]
  },
  {
   "cell_type": "code",
   "execution_count": null,
   "id": "f7538438",
   "metadata": {
    "ExecuteTime": {
     "end_time": "2024-03-20T23:45:36.852726400Z",
     "start_time": "2024-03-20T23:45:36.558091500Z"
    }
   },
   "outputs": [],
   "source": [
    "#分析净胜球与冷门和结果的关系"
   ]
  },
  {
   "cell_type": "code",
   "execution_count": null,
   "id": "ff07cb45",
   "metadata": {
    "ExecuteTime": {
     "end_time": "2024-03-20T23:45:36.874533400Z",
     "start_time": "2024-03-20T23:45:36.562184500Z"
    }
   },
   "outputs": [],
   "source": [
    "df_净胜球 = df.groupby('冷门')[['主队净胜球', '客队净胜球', '结果', '让球升降']].value_counts(normalize=0)"
   ]
  },
  {
   "cell_type": "code",
   "execution_count": null,
   "id": "a434e478",
   "metadata": {
    "ExecuteTime": {
     "end_time": "2024-03-20T23:45:36.880050900Z",
     "start_time": "2024-03-20T23:45:36.590700900Z"
    }
   },
   "outputs": [],
   "source": [
    "df_净胜球"
   ]
  },
  {
   "cell_type": "code",
   "execution_count": null,
   "id": "a697908b",
   "metadata": {
    "ExecuteTime": {
     "end_time": "2024-03-20T23:45:36.925451900Z",
     "start_time": "2024-03-20T23:45:36.600779Z"
    }
   },
   "outputs": [],
   "source": [
    "df.head()"
   ]
  },
  {
   "cell_type": "code",
   "execution_count": 28,
   "id": "1689c54f",
   "metadata": {
    "ExecuteTime": {
     "end_time": "2024-03-20T23:45:37.089164200Z",
     "start_time": "2024-03-20T23:45:36.603709800Z"
    }
   },
   "outputs": [],
   "source": [
    "# def color_negative_yellow(val):\n",
    "#     if (val > 0.3) and (val <= 0.5):\n",
    "#         color = 'yellow'\n",
    "#     elif (val > 0.5) and (val <= 0.7):\n",
    "#         color = 'red'\n",
    "#     elif (val > 0.7) and (val < 2):\n",
    "#         color = 'yellow'    \n",
    "#     else:\n",
    "#         color = ''\n",
    "#     return 'color: %s' % color\n",
    "\n",
    "def color_negative_zm(vals):\n",
    "    \"\"\"\n",
    "    水差颜色\n",
    "    \"\"\"\n",
    "    match vals:\n",
    "        case val if val == 1:\n",
    "            color = 'blue'\n",
    "#         case val if (0.25 < val <= 0.34) | (-0.34 <= val < -0.25):\n",
    "#             color = 'blue'\n",
    "#         case val if (0.34 < val < 4) | (-4 < val < -0.34) :\n",
    "#             color = 'red'\n",
    "        case _:\n",
    "            color = 'red'\n",
    "    return 'color: %s' % color\n",
    "\n",
    "def color_negative_shuicha(vals):\n",
    "    \"\"\"\n",
    "    水差颜色\n",
    "    \"\"\"\n",
    "    match vals:\n",
    "        case val if -0.15 < val <= 0.15:\n",
    "            color = 'green'\n",
    "        case val if (0.25 < val <= 0.34) | (-0.34 <= val < -0.25):\n",
    "            color = 'blue'\n",
    "        case val if (0.34 < val < 4) | (-4 < val < -0.34) :\n",
    "            color = 'red'\n",
    "        case _:\n",
    "            color = 'black'\n",
    "    return 'color: %s' % color\n",
    "\n",
    "def color_negative_peicha(vals):\n",
    "    \"\"\"\n",
    "    赔差颜色\n",
    "    \"\"\"\n",
    "    match vals:\n",
    "        case val if -0.3 < val <= 0.3:\n",
    "            color = 'green'\n",
    "        case val if (0.3 < val <= 0.5) | (-0.3 <= val < -0.5):\n",
    "            color = 'blue'\n",
    "        case val if (0.5 < val < 10) | (-10 < val < -0.5) :\n",
    "            color = 'red'\n",
    "        case _:\n",
    "            color = 'black'\n",
    "    return 'color: %s' % color\n",
    "\n",
    "def color_negative_yellow(vals):\n",
    "    \"\"\"\n",
    "    胜率，比率颜色\n",
    "    \"\"\"\n",
    "    match vals:\n",
    "        case val if (0.3 < val <= 0.5):\n",
    "            color = 'green'\n",
    "        case val if (0.5 < val <= 0.7):\n",
    "            color = 'blue'\n",
    "        case val if (0.7 < val < 2):\n",
    "            color = 'red'\n",
    "        case _:\n",
    "            color = 'black'\n",
    "    return 'color: %s' % color\n",
    "\n",
    "def color_量(vals):\n",
    "    \"\"\"\n",
    "    量的颜色\n",
    "    \"\"\"\n",
    "    match vals:\n",
    "        case val if 50000 < val <= 5000000:\n",
    "            color = 'green'\n",
    "        case val if 50000000 < val <= 100000000:\n",
    "            color = 'blue'\n",
    "        case val if 10000000 < val:\n",
    "            color = 'red'\n",
    "        case _:\n",
    "            color = 'black'\n",
    "    return 'color: %s' % color\n",
    "\n",
    "def color_popularity(val):\n",
    "    \"\"\"\n",
    "    冷门区分颜色\n",
    "    \"\"\"\n",
    "    match val:\n",
    "        case '主大冷':\n",
    "            color = 'darkred'\n",
    "        case '主中冷':\n",
    "            color = 'red'\n",
    "        case _:\n",
    "            color = 'black'\n",
    "    return 'background-color: %s' % color\n",
    "\n",
    "def highlight_rows(s):\n",
    "    if s['冷门'] == '主大冷':\n",
    "        return ['background-color: darkcyan']*len(s)\n",
    "    elif s['冷门'] == '主中冷':\n",
    "        return ['background-color: cyan']*len(s)\n",
    "    elif s['冷门'] == '主小冷':\n",
    "        return ['background-color: lightcyan']*len(s)\n",
    "    elif s['冷门'] == '客大冷':\n",
    "        return ['background-color: dimgrey']*len(s)\n",
    "    elif s['冷门'] == '客中冷':\n",
    "        return ['background-color: darkgrey']*len(s)\n",
    "    elif s['冷门'] == '客小冷':\n",
    "        return ['background-color: lightgrey']*len(s)\n",
    "    else:\n",
    "        return ['']*len(s)\n"
   ]
  },
  {
   "cell_type": "markdown",
   "id": "4a01c574",
   "metadata": {},
   "source": [
    "# 增加水位分类"
   ]
  },
  {
   "cell_type": "code",
   "execution_count": 29,
   "id": "f40ca789",
   "metadata": {
    "ExecuteTime": {
     "end_time": "2024-03-20T23:45:37.093312Z",
     "start_time": "2024-03-20T23:45:36.618194100Z"
    }
   },
   "outputs": [],
   "source": [
    "# df = df.assign(水位分类=np.select([\n",
    "#     (df[\"终胜赔\"] <= 2.21) & (df[\"终盘让球\"].isin([\"平手\"])), \"平手低水\",\n",
    "#     (df[\"终胜赔\"].between(2.24, 2.26)) & (df[\"终盘让球\"].isin([\"平手\"])), \"平手中水\",\n",
    "#     (df[\"终胜赔\"].between(2.26, 2.3)) & (df[\"终盘让球\"].isin([\"平手\"])), \"平手高水\",\n",
    "#     (df[\"终胜赔\"] >= 2.3) & (df[\"终盘让球\"].isin([\"平手\"])), \"平手超高水\",\n",
    "    \n",
    "#     (df[\"终胜赔\"].between(2.05, 2.1)) & (df[\"终盘让球\"].isin([\"平手/半球\"])), \"平手/半球低水\",\n",
    "#     (df[\"终胜赔\"].between(2.1, 2.15)) & (df[\"终盘让球\"].isin([\"平手/半球\"])), \"平手/半球中低水\",\n",
    "#     (df[\"终胜赔\"].between(2.15, 2.2)) & (df[\"终盘让球\"].isin([\"平手/半球\"])), \"平手/半球中高水\",\n",
    "#     (df[\"终胜赔\"].between(2.2, 2.25)) & (df[\"终盘让球\"].isin([\"平手/半球\"])), \"平手/半球高水\",\n",
    "#     (df[\"终胜赔\"].between(2.25, 2.3)) & (df[\"终盘让球\"].isin([\"平手/半球\"])), \"平手/半球满水\",\n",
    "    \n",
    "#     (df[\"终胜赔\"] <= 1.75) & (df[\"终盘让球\"].isin([\"半球\"])), \"半球低水\",\n",
    "#     (df[\"终胜赔\"].between(1.75, 1.85)) & (df[\"终盘让球\"].isin([\"半球\"])), \"半球中低水\",\n",
    "#     (df[\"终胜赔\"].between(1.85, 1.9)) & (df[\"终盘让球\"].isin([\"半球\"])), \"半球中水\",\n",
    "#     (df[\"终胜赔\"].between(1.9, 1.95)) & (df[\"终盘让球\"].isin([\"半球\"])), \"半球中高水\",\n",
    "#     (df[\"终胜赔\"].between(1.95, 2)) & (df[\"终盘让球\"].isin([\"半球\"])), \"半球高水\",\n",
    "#     (df[\"终胜赔\"].between(2, 2.05)) & (df[\"终盘让球\"].isin([\"半球\"])), \"半球超高水\",\n",
    "#     (df[\"终胜赔\"].between(2.05, 2.1)) & (df[\"终盘让球\"].isin([\"半球\"])), \"半球满水\",\n",
    "    \n",
    "#     (df[\"终胜赔\"] <= 1.62) & (df[\"终盘让球\"].isin([\"半球/一球\"])), \"半球/一球低水\",\n",
    "#     (df[\"终胜赔\"].between(1.62, 1.64)) & (df[\"终盘让球\"].isin([\"半球/一球\"])), \"半球/一球中低水\",\n",
    "#     (df[\"终胜赔\"].between(1.64, 1.65)) & (df[\"终胜赔\"].between(1.64, 1.65)) & (df[\"终盘让球\"].isin([\"半球/一球\"])), \"半球/一球中水\",\n",
    "#     (df[\"终胜赔\"].between(1.65, 1.67)) & (df[\"终盘让球\"].isin([\"半球/一球\"])), \"半球/一球中高水\",\n",
    "#     (df[\"终胜赔\"].between(1.67, 1.7)) & (df[\"终盘让球\"].isin([\"半球/一球\"])), \"半球/一球高水\",\n",
    "    \n",
    "#     (df[\"终胜赔\"] <= 1.48) & (df[\"终盘让球\"].isin([\"一球\"])), \"一球低水\",\n",
    "#     (df[\"终胜赔\"].between(1.48, 1.5)) & (df[\"终盘让球\"].isin([\"一球\"])), \"一球中低水\",\n",
    "#     (df[\"终胜赔\"].between(1.5, 1.53)) & (df[\"终盘让球\"].isin([\"一球\"])), \"一球中水\",\n",
    "#     (df[\"终胜赔\"].between(1.53, 1.55)) & (df[\"终盘让球\"].isin([\"一球\"])), \"一球中高水\",\n",
    "#     (df[\"终胜赔\"].between(1.55, 1.57)) & (df[\"终盘让球\"].isin([\"一球\"])), \"一球高水\",\n",
    "#     (df[\"终胜赔\"].between(1.57, 1.6)) & (df[\"终盘让球\"].isin([\"一球\"])), \"一球超高水\",\n",
    "#     (df[\"终胜赔\"].between(1.6, 1.7)) & (df[\"终盘让球\"].isin([\"一球\"])), \"一球满水\",\n",
    "    \n",
    "#     (df[\"终胜赔\"] <= 1.38) & (df[\"终盘让球\"].isin([\"一球/球半\"])), \"一球/球半低水\",\n",
    "#     (df[\"终胜赔\"].between(1.38, 1.4)) & (df[\"终盘让球\"].isin([\"一球/球半\"])), \"一球/球半中低水\",\n",
    "#     (df[\"终胜赔\"].between(1.4, 1.42)) & (df[\"终盘让球\"].isin([\"一球/球半\"])), \"一球/球半中水\",\n",
    "#     (df[\"终胜赔\"].between(1.42, 1.45)) & (df[\"终盘让球\"].isin([\"一球/球半\"])), \"一球/球半中高水\",\n",
    "#     (df[\"终胜赔\"] > 1.45) & (df[\"终盘让球\"].isin([\"一球/球半\"])), \"一球/球半高水\",\n",
    "    \n",
    "#     (df[\"终胜赔\"] <= 1.28) & (df[\"终盘让球\"].isin([\"球半\"])), \"球半低水\",\n",
    "#     (df[\"终胜赔\"].between(1.28, 1.3)) & (df[\"终盘让球\"].isin([\"球半\"])), \"球半中低水\",\n",
    "#     (df[\"终胜赔\"].between(1.3, 1.32)) & (df[\"终盘让球\"].isin([\"球半\"])), \"球半中水\",\n",
    "#     (df[\"终胜赔\"].between(1.32, 1.35)) & (df[\"终盘让球\"].isin([\"球半\"])), \"球半中高水\",\n",
    "#     (df[\"终胜赔\"] > 1.28) & (df[\"终盘让球\"].isin([\"球半\"])), \"球半高水\",\n",
    "                                       \n",
    "#     (df[\"终负赔\"] <= 1.15) & (df[\"终盘让球\"].isin([\"球半/两球\"])), \"球半/两球低水\",\n",
    "#     (df[\"终负赔\"].between(1.15, 1.18)) & (df[\"终盘让球\"].isin([\"球半/两球\"])), \"球半/两球中低水\",\n",
    "#     (df[\"终负赔\"].between(1.18, 1.22)) & (df[\"终盘让球\"].isin([\"球半/两球\"])), \"球半/两球中水\",\n",
    "#     (df[\"终负赔\"].between(1.22, 1.25)) & (df[\"终盘让球\"].isin([\"球半/两球\"])), \"球半/两球中高水\",\n",
    "#     (df[\"终负赔\"] >= 1.25) & (df[\"终盘让球\"].isin([\"球半/两球\"])), \"球半/两球高水\",\n",
    "    \n",
    "#     (df[\"终负赔\"] <= 1.1) & (df[\"终盘让球\"].isin([\"两球\"])), \"两球低水\",\n",
    "    \n",
    "#     (df[\"终负赔\"].between(2.05, 2.1)) & (df[\"终盘让球\"].isin([\"受平手/半球\"])), \"受平手/半球低水\",\n",
    "#     (df[\"终负赔\"].between(2.1, 2.15)) & (df[\"终盘让球\"].isin([\"受平手/半球\"])), \"受平手/半球中低水\",\n",
    "#     (df[\"终负赔\"].between(2.15, 2.2)) & (df[\"终盘让球\"].isin([\"受平手/半球\"])), \"受平手/半球中高水\",\n",
    "#     (df[\"终负赔\"].between(2.2, 2.25)) & (df[\"终盘让球\"].isin([\"受平手/半球\"])), \"受平手/半球超高水\",\n",
    "#     (df[\"终负赔\"].between(2.25, 2.3)) & (df[\"终盘让球\"].isin([\"受平手/半球\"])), \"受平手/半球满水\",\n",
    "#     (df[\"终负赔\"] <= 1.75) & (df[\"终盘让球\"].isin([\"受半球\"])), \"受半球低水\",\n",
    "#     (df[\"终负赔\"].between(1.75, 1.85)) & (df[\"终盘让球\"].isin([\"受半球\"])), \"受半球中低水\",\n",
    "#     (df[\"终负赔\"].between(1.85, 1.9)) & (df[\"终盘让球\"].isin([\"受半球\"])), \"受半球中水\",\n",
    "#     (df[\"终负赔\"].between(1.9, 1.95)) & (df[\"终盘让球\"].isin([\"受半球\"])), \"受半球中高水\",\n",
    "#     (df[\"终负赔\"].between(1.95, 2)) & (df[\"终盘让球\"].isin([\"受半球\"])), \"受半球高水\",\n",
    "#     (df[\"终负赔\"].between(2, 2.05)) & (df[\"终盘让球\"].isin([\"受半球\"])), \"受半球超高水\",\n",
    "#     (df[\"终负赔\"].between(2.05, 2.1)) & (df[\"终盘让球\"].isin([\"受半球\"])), \"受半球满水\",    \n",
    "        \n",
    "#     (df[\"终负赔\"] <= 1.62) & (df[\"终盘让球\"].isin([\"受半球/一球\"])), \"受半球/一球低水\",\n",
    "#     (df[\"终负赔\"].between(1.62, 1.64)) & (df[\"终盘让球\"].isin([\"受半球/一球\"])), \"受半球/一球中低水\",\n",
    "#     (df[\"终负赔\"].between(1.64, 1.65)) & (df[\"终盘让球\"].isin([\"受半球/一球\"])), \"受半球/一球中水\",\n",
    "#     (df[\"终负赔\"].between(1.65, 1.67)) & (df[\"终盘让球\"].isin([\"受半球/一球\"])), \"受半球/一球中高水\",\n",
    "#     (df[\"终负赔\"].between(1.67, 1.7)) & (df[\"终盘让球\"].isin([\"受半球/一球\"])), \"受半球/一球高水\",\n",
    "                                       \n",
    "#     (df[\"终负赔\"] <= 1.48) & (df[\"终盘让球\"].isin([\"受一球\"])), \"受一球低水\",\n",
    "#     (df[\"终负赔\"].between(1.48, 1.5)) & (df[\"终盘让球\"].isin([\"受一球\"])), \"受一球中低水\",\n",
    "#     (df[\"终负赔\"].between(1.5, 1.53)) & (df[\"终盘让球\"].isin([\"受一球\"])), \"受一球中水\",\n",
    "#     (df[\"终负赔\"].between(1.53, 1.55)) & (df[\"终盘让球\"].isin([\"受一球\"])), \"受一球中高水\",\n",
    "#     (df[\"终负赔\"].between(1.55, 1.57)) & (df[\"终盘让球\"].isin([\"受一球\"])), \"受一球高水\",\n",
    "#     (df[\"终负赔\"].between(1.57, 1.6)) & (df[\"终盘让球\"].isin([\"受一球\"])), \"受一球超高水\",\n",
    "#     (df[\"终负赔\"].between(1.6, 1.7)) & (df[\"终盘让球\"].isin([\"受一球\"])), \"受一球满水\",\n",
    "#     (df[\"终负赔\"] <= 1.38) & (df[\"终盘让球\"].isin([\"受一球/球半\"])), \"受一球/球半低水\",\n",
    "#     (df[\"终负赔\"].between(1.38, 1.4)) & (df[\"终盘让球\"].isin([\"受一球/球半\"])), \"受一球/球半中低水\",\n",
    "#     (df[\"终负赔\"].between(1.4, 1.42)) & (df[\"终盘让球\"].isin([\"受一球/球半\"])), \"受一球/球半中水\",\n",
    "#     (df[\"终负赔\"].between(1.42, 1.45)) & (df[\"终盘让球\"].isin([\"受一球/球半\"])), \"受一球/球半中高水\",\n",
    "#     (df[\"终负赔\"] > 1.45) & (df[\"终盘让球\"].isin([\"受一球/球半\"])), \"受一球/球半高水\",\n",
    "                                       \n",
    "#     (df[\"终负赔\"] <= 1.28) & (df[\"终盘让球\"].isin([\"受球半\"])), \"受球半\",        \n",
    "#     (df[\"终负赔\"].between(1.28, 1.3)) & (df[\"终盘让球\"].isin([\"受球半\"])), \"受球半中低水\",\n",
    "#     (df[\"终负赔\"].between(1.3, 1.32)) & (df[\"终盘让球\"].isin([\"受球半\"])), \"受球半中水\",\n",
    "#     (df[\"终负赔\"].between(1.32, 1.35)) & (df[\"终盘让球\"].isin([\"受球半\"])), \"受球半中高水\",\n",
    "#     (df[\"终负赔\"] > 1.28) & (df[\"终盘让球\"].isin([\"受球半\"])), \"受球半高水\",\n",
    "                                       \n",
    "#     (df[\"终负赔\"] <= 1.15) & (df[\"终盘让球\"].isin([\"受球半/两球\"])), \"受球半/两球低水\",\n",
    "#     (df[\"终负赔\"].between(1.15, 1.18)) & (df[\"终盘让球\"].isin([\"受球半/两球\"])), \"受球半/两球中低水\",\n",
    "#     (df[\"终负赔\"].between(1.18, 1.22)) & (df[\"终盘让球\"].isin([\"受球半/两球\"])), \"受球半/两球中水\",\n",
    "#     (df[\"终负赔\"].between(1.22, 1.25)) & (df[\"终盘让球\"].isin([\"受球半/两球\"])), \"受球半/两球中高水\",\n",
    "#     (df[\"终负赔\"] >= 1.25) & (df[\"终盘让球\"].isin([\"受球半/两球\"])), \"受球半/两球高水\",\n",
    "                                       \n",
    "#     (df[\"终负赔\"] <= 1.1) & (df[\"终盘让球\"].isin([\"受两球\"])), \"受两球低水\"\n",
    "    \n",
    "#    ], ['平手低水', '平手中水', '平手高水','平手超高水',\n",
    "#        '平手/半球低水', '平手/半球中低水', '平手/半球中高水','平手/半球高水', '平手/半球满水', \n",
    "#        '半球低水', '半球中低水', '半球中水', '半球中高水','半球高水', '半球超高水','半球满水', \n",
    "#        '半球/一球低水', '半球/一球中低水', '半球/一球中水', '半球/一球中高水','半球/一球高水', \n",
    "#        '一球低水', '一球中低水', '一球中水', '一球中高水', '一球高水', '一球超高水', '一球满水',\n",
    "#        '一球/球半低水','一球/球半中低水','一球/球半中水', '一球/球半中高水', '一球/球半高水',\n",
    "#        \"球半低水\",'球半中低水', '球半中水', '球半中高水', '球半高水',\n",
    "#         '球半/两球低水', '球半/两球中低水','球半/两球中高水','球半/两球高水',\n",
    "       \n",
    "#        '受平手/半球低水', '受平手/半球中低水', '受平手/半球中高水', '受平手/半球高水', '受平手/半球超高水', '受平手/半球满水',\n",
    "#        '受半球低水', '受半球中低水', '受半球中水', '受半球中高水', '受半球高水', '受半球超高水', '受半球满水',\n",
    "       \n",
    "#        '受半球/一球低水', '受半球/一球中低水', '受半球/一球中水', '受半球/一球中高水', '受半球/一球高水',\n",
    "       \n",
    "#        '受一球低水', '受一球中低水', '受一球中水', '受一球中高水', '受一球高水', '受一球超高水', '受一球满水',\n",
    "#        '受一球/球半中低水', '受一球/球半中水', '受一球/球半中高水', '受一球/球半高水', \n",
    "#        \"受球半低水\",'受球半中低水', '受球半中水', '受球半中高水', '受球半高水', \n",
    "#        '受球半/两球高水', '受球半/两球低水','受球半/两球中高水','受球半/两球高水'], default='未分类'))\n",
    "        \n",
    "    # 继续添加其余的选项\n",
    "\n"
   ]
  },
  {
   "cell_type": "code",
   "execution_count": 30,
   "id": "2c557006",
   "metadata": {
    "ExecuteTime": {
     "end_time": "2024-03-20T23:47:39.958363900Z",
     "start_time": "2024-03-20T23:45:36.621377700Z"
    }
   },
   "outputs": [
    {
     "ename": "NameError",
     "evalue": "name 'df' is not defined",
     "output_type": "error",
     "traceback": [
      "\u001b[1;31m---------------------------------------------------------------------------\u001b[0m",
      "\u001b[1;31mNameError\u001b[0m                                 Traceback (most recent call last)",
      "Cell \u001b[1;32mIn[30], line 2\u001b[0m\n\u001b[0;32m      1\u001b[0m \u001b[38;5;66;03m# df['game_date'] = pd.to_datetime(df['game_date']).dt.date\u001b[39;00m\n\u001b[1;32m----> 2\u001b[0m df\u001b[38;5;241m.\u001b[39mstyle\u001b[38;5;241m.\u001b[39mapplymap(color_negative_yellow, subset\u001b[38;5;241m=\u001b[39m[\u001b[38;5;124m'\u001b[39m\u001b[38;5;124m主队近10胜率\u001b[39m\u001b[38;5;124m'\u001b[39m, \u001b[38;5;124m'\u001b[39m\u001b[38;5;124m主队近10平率\u001b[39m\u001b[38;5;124m'\u001b[39m, \u001b[38;5;124m'\u001b[39m\u001b[38;5;124m主队近10负率\u001b[39m\u001b[38;5;124m'\u001b[39m, \u001b[38;5;124m'\u001b[39m\u001b[38;5;124m客队近10胜率\u001b[39m\u001b[38;5;124m'\u001b[39m, \u001b[38;5;124m'\u001b[39m\u001b[38;5;124m客队近10平率\u001b[39m\u001b[38;5;124m'\u001b[39m, \u001b[38;5;124m'\u001b[39m\u001b[38;5;124m客队近10负率\u001b[39m\u001b[38;5;124m'\u001b[39m,\u001b[38;5;124m'\u001b[39m\u001b[38;5;124m胜价值比率\u001b[39m\u001b[38;5;124m'\u001b[39m,\u001b[38;5;124m'\u001b[39m\u001b[38;5;124m平价值比率\u001b[39m\u001b[38;5;124m'\u001b[39m,\u001b[38;5;124m'\u001b[39m\u001b[38;5;124m负价值比率\u001b[39m\u001b[38;5;124m'\u001b[39m])\u001b[38;5;241m.\u001b[39m\\\n\u001b[0;32m      3\u001b[0m     applymap(color_量, subset\u001b[38;5;241m=\u001b[39m[\u001b[38;5;124m'\u001b[39m\u001b[38;5;124m胜价值\u001b[39m\u001b[38;5;124m'\u001b[39m, \u001b[38;5;124m'\u001b[39m\u001b[38;5;124m平价值\u001b[39m\u001b[38;5;124m'\u001b[39m, \u001b[38;5;124m'\u001b[39m\u001b[38;5;124m负价值\u001b[39m\u001b[38;5;124m'\u001b[39m])\u001b[38;5;241m.\u001b[39m\\\n\u001b[0;32m      4\u001b[0m     applymap(color_negative_shuicha, subset\u001b[38;5;241m=\u001b[39m[\u001b[38;5;124m'\u001b[39m\u001b[38;5;124m终盘水差\u001b[39m\u001b[38;5;124m'\u001b[39m,\u001b[38;5;124m'\u001b[39m\u001b[38;5;124m初盘水差\u001b[39m\u001b[38;5;124m'\u001b[39m])\u001b[38;5;241m.\u001b[39m\\\n\u001b[0;32m      5\u001b[0m     applymap(color_negative_peicha, subset\u001b[38;5;241m=\u001b[39m[\u001b[38;5;124m'\u001b[39m\u001b[38;5;124m胜赔差\u001b[39m\u001b[38;5;124m'\u001b[39m,\u001b[38;5;124m'\u001b[39m\u001b[38;5;124m平赔差\u001b[39m\u001b[38;5;124m'\u001b[39m,\u001b[38;5;124m'\u001b[39m\u001b[38;5;124m负赔差\u001b[39m\u001b[38;5;124m'\u001b[39m])\u001b[38;5;241m.\u001b[39m\\\n\u001b[0;32m      6\u001b[0m     applymap(color_negative_zm, subset\u001b[38;5;241m=\u001b[39m[\u001b[38;5;124m'\u001b[39m\u001b[38;5;124m自买3结果\u001b[39m\u001b[38;5;124m'\u001b[39m,\u001b[38;5;124m'\u001b[39m\u001b[38;5;124m自买1结果\u001b[39m\u001b[38;5;124m'\u001b[39m,\u001b[38;5;124m'\u001b[39m\u001b[38;5;124m自买0结果\u001b[39m\u001b[38;5;124m'\u001b[39m])\u001b[38;5;241m.\u001b[39m\\\n\u001b[0;32m      7\u001b[0m     apply(highlight_rows, axis\u001b[38;5;241m=\u001b[39m\u001b[38;5;241m1\u001b[39m)\u001b[38;5;241m.\u001b[39m\\\n\u001b[0;32m      8\u001b[0m     to_excel(\u001b[38;5;124m'\u001b[39m\u001b[38;5;124moutput_data/styled.xlsx\u001b[39m\u001b[38;5;124m'\u001b[39m, float_format\u001b[38;5;241m=\u001b[39m\u001b[38;5;124m\"\u001b[39m\u001b[38;5;132;01m%.3f\u001b[39;00m\u001b[38;5;124m\"\u001b[39m)\n",
      "\u001b[1;31mNameError\u001b[0m: name 'df' is not defined"
     ]
    }
   ],
   "source": [
    "# df['game_date'] = pd.to_datetime(df['game_date']).dt.date\n",
    "df.style.applymap(color_negative_yellow, subset=['主队近10胜率', '主队近10平率', '主队近10负率', '客队近10胜率', '客队近10平率', '客队近10负率','胜价值比率','平价值比率','负价值比率']).\\\n",
    "    applymap(color_量, subset=['胜价值', '平价值', '负价值']).\\\n",
    "    applymap(color_negative_shuicha, subset=['终盘水差','初盘水差']).\\\n",
    "    applymap(color_negative_peicha, subset=['胜赔差','平赔差','负赔差']).\\\n",
    "    applymap(color_negative_zm, subset=['自买3结果','自买1结果','自买0结果']).\\\n",
    "    apply(highlight_rows, axis=1).\\\n",
    "    to_excel('output_data/styled.xlsx', float_format=\"%.3f\")\n",
    "# to_excel('output_data/styled.xlsx', engine='openpyxl',float_format=\"%.3f\",index=False)"
   ]
  },
  {
   "cell_type": "code",
   "execution_count": null,
   "id": "9e01f57d",
   "metadata": {
    "ExecuteTime": {
     "end_time": "2024-03-20T23:47:39.977303600Z",
     "start_time": "2024-03-20T23:47:39.960661800Z"
    }
   },
   "outputs": [],
   "source": [
    "df.head()"
   ]
  },
  {
   "cell_type": "markdown",
   "id": "ccf4d8c0",
   "metadata": {},
   "source": [
    "# 使用独热编码"
   ]
  },
  {
   "cell_type": "code",
   "execution_count": null,
   "id": "799422a1",
   "metadata": {
    "ExecuteTime": {
     "end_time": "2024-03-20T23:49:13.108129300Z",
     "start_time": "2024-03-20T23:47:39.968495400Z"
    }
   },
   "outputs": [],
   "source": [
    "# 使用独热编码对'让球升降'列进行编码\n",
    "data_encoded = pd.get_dummies(df, columns=['让球升降'])\n",
    "# 使用独热编码对'冷门'列进行编码\n",
    "data_encoded = pd.get_dummies(data_encoded, columns=['冷门'])\n",
    "# data_encoded = pd.get_dummies(data_encoded, columns=['终盘让球'])\n",
    "data_encoded.head()\n",
    "# columns_to_keep = ['Column1', 'Column3', 'Column5'] \n",
    "# # 使用反向选择方式，列出需要排除的列名 \n",
    "# columns_to_exclude = ['shaishi','终盘让球','初盘让球', 'game_date', 'zhudui_name', 'kedui_name']\n",
    "# # 通过合并两个列表来获取最终的列名 \n",
    "# final_columns = list(set(columns_to_keep) - set(columns_to_exclude)) \n",
    "# # 使用最终的列名来选择需要的列\n",
    "#  filtered_df = df[final_columns]\n",
    "# data = data_encoded.drop(['shaishi','终盘让球','初盘让球', 'game_date'], axis=1)\n",
    "data = data_encoded\n",
    "data.style.applymap(color_negative_yellow, subset=['主队近10胜率', '主队近10平率', '主队近10负率', '客队近10胜率', '客队近10平率', '客队近10负率','胜价值比率','平价值比率','负价值比率']).\\\n",
    "    applymap(color_量, subset=['胜价值', '平价值', '负价值']).\\\n",
    "    applymap(color_negative_shuicha, subset=['终盘水差','初盘水差']).\\\n",
    "    applymap(color_negative_peicha, subset=['胜赔差','平赔差','负赔差']).\\\n",
    "    to_excel('output_data/zc_独热码.xlsx', float_format=\"%.3f\")\n",
    "    # apply(highlight_rows, axis=1).\\\n",
    "    # to_excel('output_data/zc_独热码.xlsx', float_format=\"%.3f\",index=False)\n",
    "# data.to_excel('zc_独热码.xlsx',index=False)"
   ]
  },
  {
   "cell_type": "code",
   "execution_count": null,
   "id": "97bdf7b8",
   "metadata": {
    "ExecuteTime": {
     "end_time": "2024-03-20T23:49:13.157455Z",
     "start_time": "2024-03-20T23:49:13.119622800Z"
    }
   },
   "outputs": [],
   "source": [
    "data2=data.drop(['zhudui_name', 'kedui_name'], axis=1)\n",
    "choice_number=['结果','终盘水差','初盘水差','胜赔差','平赔差','负赔差','主队净胜球',\n",
    "               '客队净胜球','主队近10胜率','主队近10平率','主队近10负率',\n",
    "               '客队近10胜率','客队近10平率','客队近10负率',\n",
    "                '胜价值比率','平价值比率','负价值比率']\n",
    "data2=df[choice_number]\n",
    "data2.head()"
   ]
  },
  {
   "cell_type": "markdown",
   "id": "86e76cb9",
   "metadata": {},
   "source": [
    "\n",
    "# 数据显示"
   ]
  },
  {
   "cell_type": "code",
   "execution_count": null,
   "id": "5a768952",
   "metadata": {
    "ExecuteTime": {
     "end_time": "2024-03-20T23:49:13.976807800Z",
     "start_time": "2024-03-20T23:49:13.144793900Z"
    }
   },
   "outputs": [],
   "source": [
    "# import seaborn as sns\n",
    "# import matplotlib.pyplot as plt\n",
    "\n",
    "# # 创建特征相关性热图\n",
    "# # correlation_matrix = data2.corr()[(data2.corr()>=0.5) & (data2.corr()<=0.9)]\n",
    "# plt.figure(figsize=(12, 8))\n",
    "# # sns.set(font_scale=1.2)\n",
    "# # sns.heatmap(correlation_matrix, annot=True, cmap=\"RdBu_r\",square=True)\n",
    "# sns.clustermap(data2.corr(),  cmap=\"RdBu_r\")\n",
    "# # sns.boxenplot(x=data2.主进球,y=data2.客进球,hue=data2.结果,data=data2)\n",
    "# # sns.violinplot(x=data2.主进球,y=data2.客进球,hue=data2.结果,data=data2)\n",
    "# plt.title('Feature Correlation Heatmap')\n",
    "# plt.show()"
   ]
  },
  {
   "cell_type": "code",
   "execution_count": null,
   "id": "e65efdaf",
   "metadata": {
    "ExecuteTime": {
     "end_time": "2024-03-20T23:49:14.899692700Z",
     "start_time": "2024-03-20T23:49:13.977444700Z"
    }
   },
   "outputs": [],
   "source": [
    "# import seaborn as sns\n",
    "# import matplotlib.pyplot as plt\n",
    "\n",
    "# # 创建特征相关性热图\n",
    "# # correlation_matrix = data2.corr()[(data2.corr()>=0.5) & (data2.corr()<=0.9)]\n",
    "# plt.figure(figsize=(12, 8))\n",
    "# # sns.set(font_scale=1.2)\n",
    "# # sns.heatmap(correlation_matrix, annot=True, cmap=\"RdBu_r\",square=True)\n",
    "# # sns.clustermap(data2.corr(),  cmap=\"RdBu_r\")\n",
    "# sns.boxplot(x=data2.head(100).主队净胜球,y=data2.head(100).客队净胜球,hue=data2.结果,data=data2)\n",
    "# # sns.violinplot(x=data2.主队净胜球,y=data2.客队净胜球,hue=data2.结果,data=data2)\n",
    "# # plt.title('Feature Correlation Heatmap')\n",
    "# plt.title('Feature BoxPlot')\n",
    "# plt.show()\n",
    "\n",
    "\n",
    "# len(data2),(data2)"
   ]
  },
  {
   "cell_type": "code",
   "execution_count": null,
   "id": "a222c98b",
   "metadata": {
    "ExecuteTime": {
     "end_time": "2024-03-20T23:49:15.045004200Z",
     "start_time": "2024-03-20T23:49:14.895546200Z"
    }
   },
   "outputs": [],
   "source": [
    "df_corr=data2.corr()\n",
    "# df_corr[(df_corr>=0.5) ]\n",
    "# df_corr\n",
    "# df_corr.head()\n",
    "# df_corr.columns"
   ]
  },
  {
   "cell_type": "code",
   "execution_count": null,
   "id": "01f19266",
   "metadata": {
    "ExecuteTime": {
     "end_time": "2024-03-20T23:49:15.049224600Z",
     "start_time": "2024-03-20T23:49:14.930423200Z"
    }
   },
   "outputs": [],
   "source": [
    "# import matplotlib.pyplot as plt\n",
    "# import numpy as np\n",
    "\n",
    "# import matplotlib\n",
    "# import matplotlib as mpl\n",
    "\n",
    "# harvest = data2.corr()\n",
    "# harvest = harvest[(harvest>=0.5) & (harvest<=0.95)]\n",
    "\n",
    "# fig, ax = plt.subplots(figsize=(20, 10))\n",
    "# im = ax.imshow(harvest)\n",
    "\n",
    "# # Show all ticks and label them with the respective list entries\n",
    "# ax.set_xticks(np.arange(harvest.shape[0]), labels=harvest.columns)\n",
    "# ax.set_yticks(np.arange(harvest.shape[1]), labels=harvest.columns)\n",
    "\n",
    "# # # Rotate the tick labels and set their alignment.\n",
    "# plt.setp(ax.get_xticklabels(), rotation=90, ha=\"right\",\n",
    "#          rotation_mode=\"anchor\")\n",
    "\n",
    "# # # Loop over data dimensions and create text annotations.\n",
    "# for i in range(harvest.shape[0]):\n",
    "#     for j in range(harvest.shape[1]):\n",
    "#         if harvest.values[i, j]>=0.5:\n",
    "#             text = ax.text(j, i, harvest.values[i, j],\n",
    "#                         ha=\"center\", va=\"center\", color=\"w\")\n",
    "#         else:\n",
    "#              text = ax.text(j, i, 0,\n",
    "#                         ha=\"center\", va=\"center\", color=\"b\")\n",
    "        \n",
    "\n",
    "# ax.set_title(\"相关性\")\n",
    "# fig.tight_layout()\n",
    "# plt.show()\n"
   ]
  },
  {
   "cell_type": "code",
   "execution_count": null,
   "id": "9f4352fb",
   "metadata": {
    "ExecuteTime": {
     "end_time": "2024-03-20T23:49:15.119399900Z",
     "start_time": "2024-03-20T23:49:14.935651600Z"
    }
   },
   "outputs": [],
   "source": [
    "# 使用箱线图可视化某个特征与结果之间的关系\n",
    "# plt.figure(figsize=(10, 6))\n",
    "# sns.boxplot(x='结果', y='终盘水差', data=data)\n",
    "# plt.title('Relationship Between \"终盘水差\" and \"结果\"')\n",
    "# plt.show()\n",
    "\n",
    "# plt.rcParams['font.size'] = 10\n",
    "# fig=plt.figure(figsize=(10,6),layout='tight')\n",
    "\n",
    "# gs=fig.add_gridspec(2,1)\n",
    "# #######\"12\"\n",
    "# ax1=fig.add_subplot(gs[0,0])\n",
    "# bar12=ax1.bar(range(10),df_t12[0:10],color='red')\n",
    "# plt.bar_label(bar12,label_type='edge')\n",
    "# # ax1.set_xlabel('12')\n",
    "# ax1.set_ylabel('间隔次数')\n",
    "# ax1.set_title('出现12类型的间隔')"
   ]
  },
  {
   "cell_type": "code",
   "execution_count": null,
   "id": "8cf3fe7c",
   "metadata": {
    "ExecuteTime": {
     "end_time": "2024-03-20T23:49:15.142929600Z",
     "start_time": "2024-03-20T23:49:15.115051100Z"
    }
   },
   "outputs": [],
   "source": [
    "import pandas as pd\n",
    "\n",
    "# 创建一个包含你提供的数据的DataFrame\n",
    "# data = {\n",
    "#     'shaishi': ['英超', '英超', '英冠', '英冠', '英冠', '英冠', '英冠', '英冠', '英冠', '英冠', '英冠', '德乙', '西甲'],\n",
    "#     '终盘主水': [1.04, 1.06, 0.92, 1.04, 0.95, 0.85, 0.85, 0.8, 0.95, 0.89, 0.84, 0.92, 1.04],\n",
    "#     '终盘客水': [0.82, 0.8, 0.88, 0.76, 0.85, 0.85, 0.95, 1, 0.85, 1, 0.96, 0.86, 0.82]\n",
    "# }\n",
    "\n",
    "# df = pd.DataFrame(data)\n",
    "\n",
    "# 1. 按照'shaishi'进行筛选\n",
    "selected_event = '英超'\n",
    "filtered_by_event = df[df['shaishi'] == selected_event]\n",
    "\n",
    "# 2. 按照'zhudui_name'进行筛选\n",
    "selected_team = '埃弗顿'\n",
    "filtered_by_team = df[df['zhudui_name'] == selected_team]\n",
    "\n",
    "# 3. 按照'冷门'进行筛选（这里将终盘胜赔大于2.0的比赛定义为冷门）\n",
    "threshold = 2.0\n",
    "cold_matches = df[df['终胜赔'] > threshold]\n",
    "\n",
    "# 4. 查看'终盘主水'，'终盘客水'的分布情况\n",
    "mean_main_water = df['终盘主水'].mean()\n",
    "std_main_water = df['终盘主水'].std()\n",
    "mean_guest_water = df['终盘客水'].mean()\n",
    "std_guest_water = df['终盘客水'].std()\n",
    "\n",
    "print(f\"终盘主水平均值: {mean_main_water:.2f}, 终盘主水标准差: {std_main_water:.2f}\")\n",
    "print(f\"终盘客水平均值: {mean_guest_water:.2f}, 终盘客水标准差: {std_guest_water:.2f}\")\n"
   ]
  },
  {
   "cell_type": "markdown",
   "id": "c528c34b",
   "metadata": {},
   "source": [
    "# 绘制['终盘水差', '初盘水差','胜价值比率','平价值比率','负价值比率']的boxplot图"
   ]
  },
  {
   "cell_type": "code",
   "execution_count": null,
   "id": "3e9ef007",
   "metadata": {
    "ExecuteTime": {
     "end_time": "2024-03-20T23:49:15.280743900Z",
     "start_time": "2024-03-20T23:49:15.144140100Z"
    }
   },
   "outputs": [],
   "source": [
    "# water_df = df[['终盘水差', '初盘水差','胜价值比率','平价值比率','负价值比率']]\n",
    "# # 使用Seaborn绘制boxplot\n",
    "# plt.figure(figsize=(12, 6))\n",
    "# my_list=(water_df.columns).to_list()\n",
    "# my_list.append('分布情况')# \n",
    "# # sns.boxplot(x='结果', y='终盘水差', data=data)\n",
    "# sns.boxplot(data=water_df, orient=\"v\", palette=\"Set2\")\n",
    "# plt.title(my_list)\n",
    "# plt.ylabel(\"水赔（终盘）\")\n",
    "# plt.show()"
   ]
  },
  {
   "cell_type": "code",
   "execution_count": null,
   "id": "5bbf6dfc",
   "metadata": {
    "ExecuteTime": {
     "end_time": "2024-03-20T23:49:15.297380700Z",
     "start_time": "2024-03-20T23:49:15.148378Z"
    }
   },
   "outputs": [],
   "source": [
    "# sns.pairplot(df[['初盘水差','终盘水差','主队净胜球','客队净胜球','结果']],\n",
    "#              hue='结果', height=2, kind='reg',diag_kind='kde')\n",
    "# sns.pairplot(df[['初盘水差','终盘水差','主队净胜球','客队净胜球','结果']],\n",
    "#              hue='结果', height=2, kind='kde', diag_kind='hist')\n"
   ]
  },
  {
   "cell_type": "code",
   "execution_count": 31,
   "id": "a895bce9",
   "metadata": {
    "ExecuteTime": {
     "end_time": "2024-03-20T23:49:15.563108700Z",
     "start_time": "2024-03-20T23:49:15.154482500Z"
    }
   },
   "outputs": [],
   "source": [
    "# df.select_dtypes([float,int])\n",
    "# import seaborn as sns\n",
    "# import matplotlib.pyplot as plt\n",
    "\n",
    "# # 计算相关系数矩阵\n",
    "# # corr = df[['初盘水差','终盘水差','主队净胜球','客队净胜球','结果']].corr()\n",
    "# corr = round(df[['初盘水差', '终盘水差', '主队净胜球', '客队净胜球', '胜赔差', '平赔差',\n",
    "#              '负赔差', '胜价值比率', '平价值比率', '负价值比率', '结果']].corr(), 2)\n",
    "# # corr = df.select_dtypes([float,int]).corr()\n",
    "\n",
    "# # 创建一个热力图来显示相关系数矩阵\n",
    "# plt.figure(figsize=(15, 12))\n",
    "# sns.heatmap(corr, annot=True, cmap='PiYG')\n",
    "\n",
    "# plt.show()\n"
   ]
  },
  {
   "cell_type": "code",
   "execution_count": 32,
   "id": "de4e155e",
   "metadata": {
    "ExecuteTime": {
     "end_time": "2024-03-20T23:49:15.584284400Z",
     "start_time": "2024-03-20T23:49:15.564390100Z"
    }
   },
   "outputs": [],
   "source": [
    "# df.select_dtypes([float,int]).columns\n",
    "# df[df['冷门'].str.contains('冷')]\n"
   ]
  },
  {
   "cell_type": "code",
   "execution_count": 33,
   "id": "a934d479",
   "metadata": {
    "ExecuteTime": {
     "end_time": "2024-03-20T23:49:15.793936500Z",
     "start_time": "2024-03-20T23:49:15.566502Z"
    }
   },
   "outputs": [
    {
     "ename": "NameError",
     "evalue": "name 'df' is not defined",
     "output_type": "error",
     "traceback": [
      "\u001b[1;31m---------------------------------------------------------------------------\u001b[0m",
      "\u001b[1;31mNameError\u001b[0m                                 Traceback (most recent call last)",
      "Cell \u001b[1;32mIn[33], line 1\u001b[0m\n\u001b[1;32m----> 1\u001b[0m df[\u001b[38;5;124m'\u001b[39m\u001b[38;5;124m14场冷门量\u001b[39m\u001b[38;5;124m'\u001b[39m] \u001b[38;5;241m=\u001b[39m df\u001b[38;5;241m.\u001b[39mindex \u001b[38;5;241m/\u001b[39m\u001b[38;5;241m/\u001b[39m \u001b[38;5;241m14\u001b[39m\n\u001b[0;32m      2\u001b[0m result \u001b[38;5;241m=\u001b[39m df\u001b[38;5;241m.\u001b[39mgroupby(\u001b[38;5;124m'\u001b[39m\u001b[38;5;124m14场冷门量\u001b[39m\u001b[38;5;124m'\u001b[39m)[\u001b[38;5;124m'\u001b[39m\u001b[38;5;124m冷门\u001b[39m\u001b[38;5;124m'\u001b[39m]\u001b[38;5;241m.\u001b[39mvalue_counts()\n\u001b[0;32m      3\u001b[0m result[::\u001b[38;5;241m-\u001b[39m\u001b[38;5;241m1\u001b[39m]\n",
      "\u001b[1;31mNameError\u001b[0m: name 'df' is not defined"
     ]
    }
   ],
   "source": [
    "df['14场冷门量'] = df.index // 14\n",
    "result = df.groupby('14场冷门量')['冷门'].value_counts()\n",
    "result[::-1]"
   ]
  },
  {
   "cell_type": "code",
   "execution_count": null,
   "id": "f204f3d8",
   "metadata": {
    "ExecuteTime": {
     "end_time": "2024-03-20T23:49:15.826280Z",
     "start_time": "2024-03-20T23:49:15.586223300Z"
    }
   },
   "outputs": [],
   "source": [
    "\n",
    "# df[(df['主客排名差']<=4) & (df['主客排名差']>=1) & (df['终胜赔']<=1.9) & (df['终盘水差']<=0.2) & (df['终盘水差']>=-0.2)][['冷门','结果']].value_counts()"
   ]
  },
  {
   "cell_type": "code",
   "execution_count": null,
   "id": "cad4d8b5",
   "metadata": {
    "ExecuteTime": {
     "end_time": "2024-03-20T23:49:16.583204500Z",
     "start_time": "2024-03-20T23:49:15.591431900Z"
    }
   },
   "outputs": [],
   "source": [
    "df['主客净胜差']=(df['主队净胜球']-df['客队净胜球'])\n",
    "# df['主客净胜差'].cut()\n",
    "df['主客净胜差_范围'] = pd.cut(x=df['主客净胜差'],bins=[-100, -5,-3,0,3,5,100],right=False)\n",
    "df.loc[df['shaishi'].isin(['英超','意甲','法甲','欧冠','西甲','德甲'])]\\.\n",
    "groupby(['shaishi','冷门','主客净胜差_范围'])[['shaishi','结果','让球升降' ]]\\.\n",
    "value_counts().unstack().fillna(0).astype(int).to_excel('jingshengqiu.xlsx'\n",
    "# df.groupby('冷门')[['结果','主队净胜球','让球升降' ]].value_counts()\n",
    "df['主客净胜差_范围'].value_counts()"
   ]
  },
  {
   "cell_type": "code",
   "execution_count": null,
   "id": "aa702ef0",
   "metadata": {},
   "outputs": [],
   "source": [
    "# file_path = r\"C:\\Users\\Administrator\\20231028\\爬取500万网站\\scrapy_500\\scrapy_get_500\\scrapy_get_500\\df_all_final.xlsx\"\n",
    "#     # file_path = \"output_data/df_piv.xlsx\"\n",
    "# df_final_all = pd.read_excel(file_path)"
   ]
  },
  {
   "cell_type": "code",
   "execution_count": null,
   "id": "02c298ab",
   "metadata": {},
   "outputs": [],
   "source": [
    "# file_path1 = r\"C:\\Users\\Administrator\\20231028\\htmls_数据_all_07001_10003.xlsx\"\n",
    "#     # file_path = \"output_data/df_piv.xlsx\"\n",
    "# df_htmls_数据 = pd.read_excel(file_path1)"
   ]
  },
  {
   "cell_type": "code",
   "execution_count": null,
   "id": "eb959469",
   "metadata": {},
   "outputs": [],
   "source": [
    "# counts_final_all=df_final_all.qihao.value_counts()\n",
    "# counts_final_all.loc[counts_final_all < 14]"
   ]
  },
  {
   "cell_type": "code",
   "execution_count": null,
   "id": "8b07b2e5",
   "metadata": {},
   "outputs": [],
   "source": [
    "# counts_final_all.loc[counts_final_all > 14]"
   ]
  },
  {
   "cell_type": "code",
   "execution_count": null,
   "id": "a58600b9",
   "metadata": {},
   "outputs": [],
   "source": [
    "# df_htmls_数据.qihao.value_counts()\n",
    "# counts_htmls_数据=df_htmls_数据.qihao.value_counts()\n",
    "# counts_htmls_数据.loc[counts_htmls_数据 < 14]\n",
    "# counts_htmls_数据.loc[counts_htmls_数据 > 14]"
   ]
  },
  {
   "cell_type": "code",
   "execution_count": null,
   "id": "d1857d78",
   "metadata": {},
   "outputs": [],
   "source": []
  }
 ],
 "metadata": {
  "kernelspec": {
   "display_name": "Python 3 (ipykernel)",
   "language": "python",
   "name": "python3"
  },
  "language_info": {
   "codemirror_mode": {
    "name": "ipython",
    "version": 3
   },
   "file_extension": ".py",
   "mimetype": "text/x-python",
   "name": "python",
   "nbconvert_exporter": "python",
   "pygments_lexer": "ipython3",
   "version": "3.11.7"
  },
  "toc": {
   "base_numbering": 1,
   "nav_menu": {},
   "number_sections": true,
   "sideBar": true,
   "skip_h1_title": false,
   "title_cell": "Table of Contents",
   "title_sidebar": "Contents",
   "toc_cell": false,
   "toc_position": {
    "height": "calc(100% - 180px)",
    "left": "10px",
    "top": "150px",
    "width": "166.051px"
   },
   "toc_section_display": true,
   "toc_window_display": true
  },
  "varInspector": {
   "cols": {
    "lenName": 16,
    "lenType": 16,
    "lenVar": 40
   },
   "kernels_config": {
    "python": {
     "delete_cmd_postfix": "",
     "delete_cmd_prefix": "del ",
     "library": "var_list.py",
     "varRefreshCmd": "print(var_dic_list())"
    },
    "r": {
     "delete_cmd_postfix": ") ",
     "delete_cmd_prefix": "rm(",
     "library": "var_list.r",
     "varRefreshCmd": "cat(var_dic_list()) "
    }
   },
   "types_to_exclude": [
    "module",
    "function",
    "builtin_function_or_method",
    "instance",
    "_Feature"
   ],
   "window_display": false
  }
 },
 "nbformat": 4,
 "nbformat_minor": 5
}
